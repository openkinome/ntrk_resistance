{
 "cells": [
  {
   "cell_type": "markdown",
   "metadata": {},
   "source": [
    "# Point mutations in NTRKs"
   ]
  },
  {
   "cell_type": "code",
   "execution_count": 1,
   "metadata": {},
   "outputs": [
    {
     "name": "stderr",
     "output_type": "stream",
     "text": [
      "INFO:numexpr.utils:Note: detected 72 virtual cores but NumExpr set to maximum of 64, check \"NUMEXPR_MAX_THREADS\" environment variable.\n",
      "INFO:numexpr.utils:Note: NumExpr detected 72 cores but \"NUMEXPR_MAX_THREADS\" not set, so enforcing safe limit of 8.\n",
      "INFO:numexpr.utils:NumExpr defaulting to 8 threads.\n",
      "INFO:rdkit:Enabling RDKit 2020.03.4 jupyter extensions\n"
     ]
    },
    {
     "data": {
      "application/vnd.jupyter.widget-view+json": {
       "model_id": "02e25c88a3d24ada8b4335c636241c22",
       "version_major": 2,
       "version_minor": 0
      },
      "text/plain": []
     },
     "metadata": {},
     "output_type": "display_data"
    }
   ],
   "source": [
    "# imports\n",
    "import logging\n",
    "import MDAnalysis as mda\n",
    "import mdtraj as md\n",
    "import numpy as np\n",
    "import os\n",
    "import pickle\n",
    "\n",
    "from openeye import oechem\n",
    "from perses.app.relative_point_mutation_setup import PointMutationExecutor\n",
    "from simtk import unit"
   ]
  },
  {
   "cell_type": "code",
   "execution_count": 2,
   "metadata": {},
   "outputs": [
    {
     "name": "stdout",
     "output_type": "stream",
     "text": [
      "--> Directory  ./output/  created \n"
     ]
    }
   ],
   "source": [
    "# Create output directory\n",
    "output_prefix = \"./output/\"\n",
    "os.makedirs(output_prefix, exist_ok=True)\n",
    "print(\"--> Directory \", output_prefix, \" created \")"
   ]
  },
  {
   "cell_type": "markdown",
   "metadata": {},
   "source": [
    "## 1. NTRK1"
   ]
  },
  {
   "cell_type": "code",
   "execution_count": 3,
   "metadata": {
    "tags": []
   },
   "outputs": [
    {
     "name": "stderr",
     "output_type": "stream",
     "text": [
      "/home/glassw/miniconda/envs/ntrk_mutations_and_perses_dev/lib/python3.7/site-packages/MDAnalysis/core/topologyattrs.py:2011: VisibleDeprecationWarning: Creating an ndarray from ragged nested sequences (which is a list-or-tuple of lists-or-tuples-or ndarrays with different lengths or shapes) is deprecated. If you meant to do this, you must specify 'dtype=object' when creating the ndarray\n",
      "  np.array(sorted(unique_bonds)), 4)\n"
     ]
    }
   ],
   "source": [
    "input_pdb_path = \"../md/data/md_equil/4YNE/output/\"\n",
    "\n",
    "ligand_input_pdb_dict = {\n",
    "    \"lar\" : input_pdb_path + \"larotrectinib/equilibrated_state_5ns.pdb\",\n",
    "    \"sel\" : input_pdb_path + \"selitrectinib/equilibrated_state_5ns.pdb\",\n",
    "    \"rep\" : input_pdb_path + \"repotrectinib/equilibrated_state_5ns.pdb\"\n",
    "}\n",
    "\n",
    "# Strip out protein and ligand coordinates\n",
    "\n",
    "for ligand_resname in ligand_input_pdb_dict:\n",
    "\n",
    "    u = mda.Universe(ligand_input_pdb_dict[ligand_resname])\n",
    "\n",
    "    protein = u.select_atoms(\"protein or resname ACE NME\")\n",
    "    protein.write(\"./data/4yne_\" + ligand_resname + \"_apo.pdb\")\n",
    "\n",
    "    ligand = u.select_atoms(\"resname \" + ligand_resname)\n",
    "    ligand.write(\"./data/\" + ligand_resname + \".pdb\")\n",
    "\n",
    "# Create SDF files for each ligand to be used later\n",
    "\n",
    "for ligand_resname in ligand_input_pdb_dict:\n",
    "\n",
    "    ifs = oechem.oemolistream(\"./data/\" + ligand_resname + \".pdb\")\n",
    "    ofs = oechem.oemolostream(\"./data/\" + ligand_resname + \".sdf\")\n",
    "\n",
    "    ifs.SetFormat(oechem.OEFormat_PDB)\n",
    "    ofs.SetFormat(oechem.OEFormat_SDF)\n",
    "\n",
    "    for mol in ifs.GetOEGraphMols():\n",
    "        oechem.OEWriteMolecule(ofs, mol)\n",
    "        "
   ]
  },
  {
   "cell_type": "code",
   "execution_count": 4,
   "metadata": {},
   "outputs": [],
   "source": [
    "# Set up logger\n",
    "_logger = logging.getLogger()\n",
    "_logger.setLevel(logging.DEBUG)"
   ]
  },
  {
   "cell_type": "markdown",
   "metadata": {},
   "source": [
    "### 1.1 NTRK1 G667C : Larotrectinib"
   ]
  },
  {
   "cell_type": "code",
   "execution_count": 5,
   "metadata": {
    "tags": [
     "outputPrepend"
    ]
   },
   "outputs": [
    {
     "name": "stderr",
     "output_type": "stream",
     "text": [
      "INFO:utils.openeye:molecule                       does not have unique atom names. Generating now...\n",
      "INFO:utils.openeye:molecule                       has unique atom names already\n",
      "DEBUG:openmmforcefields.system_generators:Trying GAFFTemplateGenerator to load gaff-2.11\n",
      "INFO:root:solvating at 0.15 M using tip3p\n",
      "INFO:root:solvating at 0.15 M using tip3p\n",
      "INFO:openmmforcefields.generators.template_generators:Requested to generate parameters for residue <Residue 297 () of chain 1>\n",
      "INFO:openmmforcefields.generators.template_generators:Generating a residue template for [H]c1c(c(c(c(c1F)[H])[C@]2(C(C(C(N2C3=NC4=C(C(=NN4C(=C3[H])[H])[H])N([H])C(=O)N5C([C@@](C(C5([H])[H])([H])[H])([H])O[H])([H])[H])([H])[H])([H])[H])([H])[H])[H])F)[H] using gaff-2.11\n",
      "DEBUG:openmmforcefields.generators.template_generators:Total charge is 0.0 e\n",
      "DEBUG:openmmforcefields.generators.template_generators:Computing AM1-BCC charges...\n",
      "DEBUG:openmmforcefields.generators.template_generators:Generating a conformer...\n",
      "DEBUG:openmmforcefields.generators.template_generators:Running antechamber...\n",
      "DEBUG:openmmforcefields.generators.template_generators:antechamber -i in.mdl -fi mdl -o out.mol2 -fo mol2 -s 0 -at 2 -dr no\n",
      "DEBUG:openmmforcefields.generators.template_generators:\n",
      "Welcome to antechamber 20.0: molecular input file processor.\n",
      "\n",
      "\n",
      "DEBUG:openmmforcefields.generators.template_generators:parmchk2 -i out.mol2 -f mol2 -p /home/glassw/miniconda/envs/ntrk_mutations_and_perses_dev/lib/python3.7/site-packages/openmmforcefields/ffxml/amber/gaff/dat/gaff-2.11.dat -o out.frcmod -s %2\n",
      "DEBUG:openmmforcefields.generators.template_generators:\n",
      "DEBUG:openmmforcefields.generators.template_generators:Reading GAFF atom types...\n",
      "DEBUG:openmmforcefields.generators.template_generators:Fixing partial charges...\n",
      "DEBUG:openmmforcefields.generators.template_generators:[-0.14392    -0.14203    -0.1292      0.35282001 -0.0926     -0.10363\n",
      "  0.11485     0.11344     0.09425    -0.35392001  0.0261      0.70002002\n",
      "  0.79843003 -0.09077    -0.08553    -0.12873     0.21636     0.11894\n",
      "  0.09044     0.28532001  0.13116001 -0.52126998 -0.62053001  0.13000999\n",
      " -0.74849999 -0.49985999 -0.43972    -0.64037001 -0.59565002 -0.13704\n",
      " -0.138       0.1531      0.15482     0.15448999  0.07791     0.15746\n",
      "  0.17808001  0.057       0.057       0.06258     0.06258     0.05984\n",
      "  0.05984     0.04468     0.04468     0.05779     0.05779     0.05792\n",
      "  0.05792     0.09121     0.05153     0.33581001  0.40509999] e\n",
      "DEBUG:openmmforcefields.generators.template_generators:[-0.14392    -0.14203    -0.1292      0.35282001 -0.0926     -0.10363\n",
      "  0.11485     0.11344     0.09425    -0.35392001  0.0261      0.70002001\n",
      "  0.79843002 -0.09077    -0.08553    -0.12873     0.21636     0.11894\n",
      "  0.09044     0.28532001  0.13116001 -0.52126998 -0.62053001  0.13000999\n",
      " -0.74849999 -0.49985999 -0.43972001 -0.64037001 -0.59565002 -0.13704\n",
      " -0.138       0.1531      0.15481999  0.15448999  0.07791     0.15746\n",
      "  0.17808001  0.057       0.057       0.06258     0.06258     0.05984\n",
      "  0.05984     0.04468     0.04468     0.05779     0.05779     0.05792\n",
      "  0.05792     0.09121     0.05153     0.33581     0.40509999] e\n",
      "DEBUG:openmmforcefields.generators.template_generators:Creating ffxml contents for additional parameters...\n",
      "DEBUG:parmed.openmm.parameters:Valid patch combinations:\n",
      "DEBUG:openmmforcefields.generators.template_generators:Creating residue template...\n",
      "DEBUG:openmmforcefields.generators.template_generators:ffxml creation complete.\n",
      "INFO:proposal_generator:\tConducting polymer point mutation proposal...\n",
      "INFO:proposal_generator:Using matching_criterion to chose best atom map\n",
      "INFO:proposal_generator:Scaffold has symmetry of 0\n",
      "WARNING:proposal_generator:Two molecules are not similar to have a common scaffold\n",
      "WARNING:proposal_generator:Proceeding with direct mapping of molecules, but please check atom mapping and the geometry of the ligands.\n",
      "INFO:proposal_generator:len [{}, {}, {8: 6}, {9: 6}, {10: 6}]\n",
      "INFO:proposal_generator:{}\n",
      "INFO:proposal_generator:{}\n",
      "INFO:proposal_generator:{8: 6}\n",
      "INFO:proposal_generator:{9: 6}\n",
      "INFO:proposal_generator:{10: 6}\n",
      "INFO:proposal_generator:Returning map that best satisfies matching_criterion\n",
      "INFO:proposal_generator:Finding best map using matching_criterion name\n",
      "INFO:proposal_generator:{}\n",
      "INFO:geometry:propose: performing forward proposal\n",
      "INFO:geometry:propose: unique new atoms detected; proceeding to _logp_propose...\n",
      "INFO:geometry:Conducting forward proposal...\n",
      "INFO:geometry:Computing proposal order with NetworkX...\n",
      "INFO:geometry:number of atoms to be placed: 5\n",
      "INFO:geometry:Atom index proposal order is [2611, 2614, 2615, 2613, 2612]\n",
      "INFO:geometry:omitted_bonds: []\n",
      "INFO:geometry:direction of proposal is forward; creating atoms_with_positions and new positions from old system/topology...\n",
      "INFO:geometry:creating growth system...\n",
      "INFO:geometry:\tcreating bond force...\n",
      "INFO:geometry:\tthere are 2423 bonds in reference force.\n",
      "INFO:geometry:\tcreating angle force...\n",
      "INFO:geometry:\tthere are 8641 angles in reference force.\n",
      "INFO:geometry:\tcreating torsion force...\n",
      "INFO:geometry:\tcreating extra torsions force...\n",
      "INFO:geometry:\tthere are 16054 torsions in reference force.\n",
      "INFO:geometry:\tcreating nonbonded force...\n",
      "INFO:geometry:\t\tgrabbing reference nonbonded method, cutoff, switching function, switching distance...\n",
      "INFO:geometry:\t\tcreating nonbonded exception force (i.e. custom bond for 1,4s)...\n",
      "INFO:geometry:\t\tlooping through exceptions calculating growth indices, and adding appropriate interactions to custom bond force.\n",
      "INFO:geometry:\t\tthere are 75583 in the reference Nonbonded force\n",
      "WARNING:geometry:\t\t\t\t\tchiral atom <Atom 2607 (CA) of chain 0 residue 166 (CYS)> with neighbors [<Atom 2608 (C) of chain 0 residue 166 (CYS)>, <Atom 2605 (N) of chain 0 residue 166 (CYS)>, <Atom 2610 (HA) of chain 0 residue 166 (CYS)>, <Atom 2611 (CB) of chain 0 residue 166 (CYS)>] is surrounded by 3 core neighbors.  omitting chirality bias torsion\n",
      "INFO:geometry:Neglected angle terms : []\n",
      "INFO:geometry:omitted_growth_terms: {'bonds': [], 'angles': [], 'torsions': [], '1,4s': []}\n",
      "INFO:geometry:extra torsions: {}\n",
      "INFO:geometry:neglected angle terms include []\n",
      "INFO:geometry:log probability choice of torsions and atom order: -7.203405521083095\n",
      "INFO:geometry:creating platform, integrators, and contexts; setting growth parameter\n"
     ]
    },
    {
     "name": "stdout",
     "output_type": "stream",
     "text": [
      "Desired platform not supported. exception raised: Error initializing CUDA: CUDA_ERROR_NO_DEVICE (100) at /opt/conda/conda-bld/openmm_1589508244174/work/platforms/cuda/src/CudaContext.cpp:148\n",
      "Warning: Returning CPU platform instead of requested platform CUDA\n",
      "conducting subsequent work with the following platform: CPU\n",
      "Desired platform not supported. exception raised: Error initializing CUDA: CUDA_ERROR_NO_DEVICE (100) at /opt/conda/conda-bld/openmm_1589508244174/work/platforms/cuda/src/CudaContext.cpp:148\n",
      "Warning: Returning Reference platform instead of requested platform CUDA\n",
      "conducting subsequent work with the following platform: Reference\n"
     ]
    },
    {
     "name": "stderr",
     "output_type": "stream",
     "text": [
      "INFO:geometry:setting atoms_with_positions context new positions\n",
      "INFO:geometry:There are 5 new atoms\n",
      "INFO:geometry:\treduced angle potential = 0.003566183751272827.\n"
     ]
    },
    {
     "name": "stdout",
     "output_type": "stream",
     "text": [
      "Desired platform not supported. exception raised: Error initializing CUDA: CUDA_ERROR_NO_DEVICE (100) at /opt/conda/conda-bld/openmm_1589508244174/work/platforms/cuda/src/CudaContext.cpp:148\n",
      "Warning: Returning Reference platform instead of requested platform CUDA\n",
      "conducting subsequent work with the following platform: Reference\n"
     ]
    },
    {
     "name": "stderr",
     "output_type": "stream",
     "text": [
      "INFO:geometry:\treduced angle potential = 0.5541440314087737.\n",
      "INFO:geometry:\treduced angle potential = 1.0143346985633843.\n",
      "INFO:geometry:\treduced angle potential = 1.7220019199556338.\n",
      "INFO:geometry:\treduced angle potential = 0.07075235409892487.\n",
      "INFO:geometry:\tbeginning construction of no_nonbonded final system...\n",
      "INFO:geometry:\tinitial no-nonbonded final system forces ['HarmonicBondForce', 'HarmonicAngleForce', 'PeriodicTorsionForce', 'NonbondedForce', 'MonteCarloBarostat']\n",
      "INFO:geometry:\tfinal no-nonbonded final system forces dict_keys(['HarmonicBondForce', 'HarmonicAngleForce', 'PeriodicTorsionForce', 'NonbondedForce'])\n",
      "INFO:geometry:\tthere are 2423 bond forces in the no-nonbonded final system\n",
      "INFO:geometry:\tthere are 8641 angle forces in the no-nonbonded final system\n",
      "INFO:geometry:\tthere are 16054 torsion forces in the no-nonbonded final system\n",
      "INFO:geometry:forward final system defined with 0 neglected angles.\n"
     ]
    },
    {
     "name": "stdout",
     "output_type": "stream",
     "text": [
      "Desired platform not supported. exception raised: Error initializing CUDA: CUDA_ERROR_NO_DEVICE (100) at /opt/conda/conda-bld/openmm_1589508244174/work/platforms/cuda/src/CudaContext.cpp:148\n",
      "Warning: Returning Reference platform instead of requested platform CUDA\n",
      "conducting subsequent work with the following platform: Reference\n"
     ]
    },
    {
     "name": "stderr",
     "output_type": "stream",
     "text": [
      "INFO:geometry:total reduced potential before atom placement: 12018.87067881956\n"
     ]
    },
    {
     "name": "stdout",
     "output_type": "stream",
     "text": [
      "Desired platform not supported. exception raised: Error initializing CUDA: CUDA_ERROR_NO_DEVICE (100) at /opt/conda/conda-bld/openmm_1589508244174/work/platforms/cuda/src/CudaContext.cpp:148\n",
      "Warning: Returning Reference platform instead of requested platform CUDA\n",
      "conducting subsequent work with the following platform: Reference\n",
      "Desired platform not supported. exception raised: Error initializing CUDA: CUDA_ERROR_NO_DEVICE (100) at /opt/conda/conda-bld/openmm_1589508244174/work/platforms/cuda/src/CudaContext.cpp:148\n",
      "Warning: Returning Reference platform instead of requested platform CUDA\n",
      "conducting subsequent work with the following platform: Reference\n"
     ]
    },
    {
     "name": "stderr",
     "output_type": "stream",
     "text": [
      "INFO:geometry:total reduced energy added from growth system: 22.532776807333676\n",
      "INFO:geometry:final reduced energy 12041.40345562689\n"
     ]
    },
    {
     "name": "stdout",
     "output_type": "stream",
     "text": [
      "Desired platform not supported. exception raised: Error initializing CUDA: CUDA_ERROR_NO_DEVICE (100) at /opt/conda/conda-bld/openmm_1589508244174/work/platforms/cuda/src/CudaContext.cpp:148\n",
      "Warning: Returning Reference platform instead of requested platform CUDA\n",
      "conducting subsequent work with the following platform: Reference\n",
      "Desired platform not supported. exception raised: Error initializing CUDA: CUDA_ERROR_NO_DEVICE (100) at /opt/conda/conda-bld/openmm_1589508244174/work/platforms/cuda/src/CudaContext.cpp:148\n",
      "Warning: Returning Reference platform instead of requested platform CUDA\n",
      "conducting subsequent work with the following platform: Reference\n",
      "added energy components: [('CustomBondForce', 0.849937955701386), ('CustomAngleForce', 5.106588081538512), ('CustomTorsionForce', 11.91079896291344), ('CustomBondForce', 4.665451807180337)]\n"
     ]
    },
    {
     "name": "stderr",
     "output_type": "stream",
     "text": [
      "INFO:geometry:sum of energies: 12041.403455626893\n",
      "INFO:geometry:magnitude of difference in the energies: 2.5011104298755527e-12\n",
      "INFO:geometry:Final logp_proposal: 28.195548179178076\n",
      "INFO:geometry:logp_reverse: performing reverse proposal\n",
      "INFO:geometry:logp_reverse: unique new atoms detected; proceeding to _logp_propose...\n",
      "INFO:geometry:Conducting forward proposal...\n",
      "INFO:geometry:Computing proposal order with NetworkX...\n",
      "INFO:geometry:number of atoms to be placed: 1\n",
      "INFO:geometry:Atom index proposal order is [2608]\n",
      "INFO:geometry:omitted_bonds: []\n",
      "INFO:geometry:direction of proposal is reverse; creating atoms_with_positions from old system/topology\n",
      "INFO:geometry:creating growth system...\n",
      "INFO:geometry:\tcreating bond force...\n",
      "INFO:geometry:\tthere are 2421 bonds in reference force.\n",
      "INFO:geometry:\tcreating angle force...\n",
      "INFO:geometry:\tthere are 8634 angles in reference force.\n",
      "INFO:geometry:\tcreating torsion force...\n",
      "INFO:geometry:\tcreating extra torsions force...\n",
      "INFO:geometry:\tthere are 16029 torsions in reference force.\n",
      "INFO:geometry:\tcreating nonbonded force...\n",
      "INFO:geometry:\t\tgrabbing reference nonbonded method, cutoff, switching function, switching distance...\n",
      "INFO:geometry:\t\tcreating nonbonded exception force (i.e. custom bond for 1,4s)...\n",
      "INFO:geometry:\t\tlooping through exceptions calculating growth indices, and adding appropriate interactions to custom bond force.\n",
      "INFO:geometry:\t\tthere are 75560 in the reference Nonbonded force\n",
      "INFO:geometry:Neglected angle terms : []\n",
      "INFO:geometry:omitted_growth_terms: {'bonds': [], 'angles': [], 'torsions': [], '1,4s': []}\n",
      "INFO:geometry:extra torsions: {}\n",
      "INFO:geometry:neglected angle terms include []\n",
      "INFO:geometry:log probability choice of torsions and atom order: -0.6931471805599453\n",
      "INFO:geometry:creating platform, integrators, and contexts; setting growth parameter\n",
      "INFO:geometry:setting atoms_with_positions context old positions\n"
     ]
    },
    {
     "name": "stdout",
     "output_type": "stream",
     "text": [
      "Desired platform not supported. exception raised: Error initializing CUDA: CUDA_ERROR_NO_DEVICE (100) at /opt/conda/conda-bld/openmm_1589508244174/work/platforms/cuda/src/CudaContext.cpp:148\n",
      "Warning: Returning Reference platform instead of requested platform CUDA\n",
      "conducting subsequent work with the following platform: Reference\n"
     ]
    },
    {
     "name": "stderr",
     "output_type": "stream",
     "text": [
      "INFO:geometry:There are 1 new atoms\n",
      "INFO:geometry:\treduced angle potential = 0.3609779901075485.\n"
     ]
    },
    {
     "name": "stdout",
     "output_type": "stream",
     "text": [
      "Desired platform not supported. exception raised: Error initializing CUDA: CUDA_ERROR_NO_DEVICE (100) at /opt/conda/conda-bld/openmm_1589508244174/work/platforms/cuda/src/CudaContext.cpp:148\n",
      "Warning: Returning Reference platform instead of requested platform CUDA\n",
      "conducting subsequent work with the following platform: Reference\n"
     ]
    },
    {
     "name": "stderr",
     "output_type": "stream",
     "text": [
      "INFO:geometry:\tbeginning construction of no_nonbonded final system...\n",
      "INFO:geometry:\tinitial no-nonbonded final system forces ['HarmonicBondForce', 'HarmonicAngleForce', 'PeriodicTorsionForce', 'NonbondedForce', 'MonteCarloBarostat']\n",
      "INFO:geometry:\tfinal no-nonbonded final system forces dict_keys(['HarmonicBondForce', 'HarmonicAngleForce', 'PeriodicTorsionForce', 'NonbondedForce'])\n",
      "INFO:geometry:\tthere are 2421 bond forces in the no-nonbonded final system\n",
      "INFO:geometry:\tthere are 8634 angle forces in the no-nonbonded final system\n",
      "INFO:geometry:\tthere are 16029 torsion forces in the no-nonbonded final system\n",
      "INFO:geometry:reverse final system defined with 0 neglected angles.\n"
     ]
    },
    {
     "name": "stdout",
     "output_type": "stream",
     "text": [
      "Desired platform not supported. exception raised: Error initializing CUDA: CUDA_ERROR_NO_DEVICE (100) at /opt/conda/conda-bld/openmm_1589508244174/work/platforms/cuda/src/CudaContext.cpp:148\n",
      "Warning: Returning Reference platform instead of requested platform CUDA\n",
      "conducting subsequent work with the following platform: Reference\n"
     ]
    },
    {
     "name": "stderr",
     "output_type": "stream",
     "text": [
      "INFO:geometry:total reduced potential before atom placement: 12019.093220586137\n"
     ]
    },
    {
     "name": "stdout",
     "output_type": "stream",
     "text": [
      "Desired platform not supported. exception raised: Error initializing CUDA: CUDA_ERROR_NO_DEVICE (100) at /opt/conda/conda-bld/openmm_1589508244174/work/platforms/cuda/src/CudaContext.cpp:148\n",
      "Warning: Returning Reference platform instead of requested platform CUDA\n",
      "conducting subsequent work with the following platform: Reference\n",
      "Desired platform not supported. exception raised: Error initializing CUDA: CUDA_ERROR_NO_DEVICE (100) at /opt/conda/conda-bld/openmm_1589508244174/work/platforms/cuda/src/CudaContext.cpp:148\n",
      "Warning: Returning Reference platform instead of requested platform CUDA\n",
      "conducting subsequent work with the following platform: Reference\n"
     ]
    },
    {
     "name": "stderr",
     "output_type": "stream",
     "text": [
      "INFO:geometry:total reduced energy added from growth system: 0.7384462890061946\n",
      "INFO:geometry:final reduced energy 12019.831666875143\n",
      "INFO:geometry:sum of energies: 12019.831666875143\n",
      "INFO:geometry:magnitude of difference in the energies: 3.1608049511078207e-13\n",
      "INFO:geometry:Final logp_proposal: 4.833540335116111\n",
      "INFO:relative:Beginning nonbonded method, total particle, barostat, and exceptions retrieval...\n",
      "INFO:relative:Old system forces: dict_keys(['HarmonicBondForce', 'HarmonicAngleForce', 'PeriodicTorsionForce', 'NonbondedForce', 'MonteCarloBarostat'])\n"
     ]
    },
    {
     "name": "stdout",
     "output_type": "stream",
     "text": [
      "Desired platform not supported. exception raised: Error initializing CUDA: CUDA_ERROR_NO_DEVICE (100) at /opt/conda/conda-bld/openmm_1589508244174/work/platforms/cuda/src/CudaContext.cpp:148\n",
      "Warning: Returning Reference platform instead of requested platform CUDA\n",
      "conducting subsequent work with the following platform: Reference\n",
      "Desired platform not supported. exception raised: Error initializing CUDA: CUDA_ERROR_NO_DEVICE (100) at /opt/conda/conda-bld/openmm_1589508244174/work/platforms/cuda/src/CudaContext.cpp:148\n",
      "Warning: Returning Reference platform instead of requested platform CUDA\n",
      "conducting subsequent work with the following platform: Reference\n",
      "added energy components: [('CustomBondForce', 0.0), ('CustomAngleForce', 2.2559189272125093), ('CustomTorsionForce', 0.8960888863708859), ('CustomBondForce', -2.4135615245772004)]\n"
     ]
    },
    {
     "name": "stderr",
     "output_type": "stream",
     "text": [
      "INFO:relative:New system forces: dict_keys(['HarmonicBondForce', 'HarmonicAngleForce', 'PeriodicTorsionForce', 'NonbondedForce', 'MonteCarloBarostat'])\n",
      "INFO:relative:No unknown forces.\n",
      "INFO:relative:Nonbonded method to be used (i.e. from old system): 4\n",
      "INFO:relative:Adding and mapping old atoms to hybrid system...\n",
      "INFO:relative:Adding and mapping new atoms to hybrid system...\n",
      "INFO:relative:Added MonteCarloBarostat.\n",
      "INFO:relative:getDefaultPeriodicBoxVectors added to hybrid: [Quantity(value=Vec3(x=8.3344, y=0.0, z=0.0), unit=nanometer), Quantity(value=Vec3(x=0.0, y=8.3344, z=0.0), unit=nanometer), Quantity(value=Vec3(x=0.0, y=0.0, z=8.3344), unit=nanometer)]\n",
      "INFO:relative:Determined atom classes.\n",
      "INFO:relative:Generating old system exceptions dict...\n",
      "INFO:relative:Generating new system exceptions dict...\n",
      "INFO:relative:Handling constraints...\n",
      "INFO:relative:Handling virtual sites...\n",
      "INFO:relative:\t_handle_virtual_sites: numVirtualSites: 0\n",
      "INFO:relative:Adding bond force terms...\n",
      "INFO:relative:Adding angle force terms...\n",
      "INFO:relative:Adding torsion force terms...\n",
      "INFO:relative:Adding nonbonded force terms...\n",
      "INFO:relative:\t_add_nonbonded_force_terms: <simtk.openmm.openmm.NonbondedForce; proxy of <Swig Object of type 'OpenMM::NonbondedForce *' at 0x2b0abf6a8cf0> > added to hybrid system\n",
      "INFO:relative:\t_add_nonbonded_force_terms: nonbonded_method is PME or Ewald\n",
      "INFO:relative:\t_add_nonbonded_force_terms: 4 added to standard nonbonded force\n",
      "INFO:relative:\t_add_nonbonded_force_terms: 2 added to sterics_custom_nonbonded force\n",
      "INFO:relative:\t_add_nonbonded_force_terms: <simtk.openmm.openmm.CustomNonbondedForce; proxy of <Swig Object of type 'OpenMM::CustomNonbondedForce *' at 0x2b0abf6a8ba0> > added to hybrid system\n",
      "INFO:relative:Handling harmonic bonds...\n",
      "INFO:relative:\thandle_harmonic_bonds: looping through old_system to add relevant terms...\n",
      "INFO:relative:\thandle_harmonic_bonds: looping through new_system to add relevant terms...\n",
      "INFO:relative:Handling harmonic angles...\n",
      "INFO:relative:\thandle_harmonic_angles: looping through old_system to add relevant terms...\n",
      "INFO:relative:\thandle_harmonic_angles: looping through new_system to add relevant terms...\n",
      "INFO:relative:Handling torsion forces...\n",
      "INFO:relative:\thandle_periodic_torsion_forces: looping through old_system to add relevant terms...\n",
      "INFO:relative:\thandle_periodic_torsion_forces: looping through new_system to add relevant terms...\n",
      "INFO:relative:Handling nonbonded forces...\n",
      "INFO:relative:\thandle_nonbonded: looping through all particles in hybrid...\n",
      "INFO:relative:\thandle_nonbonded: Handling Interaction Groups...\n",
      "INFO:relative:\thandle_nonbonded: Handling Hybrid Exceptions...\n",
      "INFO:relative:\thandle_nonbonded: Handling Original Exceptions...\n",
      "INFO:relative:Handling unique_new/old interaction exceptions...\n",
      "INFO:relative:There are old or new system exceptions...proceeding.\n"
     ]
    },
    {
     "name": "stdout",
     "output_type": "stream",
     "text": [
      "Desired platform not supported. exception raised: Error initializing CUDA: CUDA_ERROR_NO_DEVICE (100) at /opt/conda/conda-bld/openmm_1589508244174/work/platforms/cuda/src/CudaContext.cpp:148\n",
      "Warning: Returning Reference platform instead of requested platform CUDA\n",
      "conducting subsequent work with the following platform: Reference\n",
      "Desired platform not supported. exception raised: Error initializing CUDA: CUDA_ERROR_NO_DEVICE (100) at /opt/conda/conda-bld/openmm_1589508244174/work/platforms/cuda/src/CudaContext.cpp:148\n",
      "Warning: Returning Reference platform instead of requested platform CUDA\n",
      "conducting subsequent work with the following platform: Reference\n",
      "\t\t\tHarmonicBondForce: 1543.903204159142\n",
      "\t\t\tHarmonicAngleForce: 4276.304503225693\n",
      "\t\t\tPeriodicTorsionForce: 6202.037521014884\n",
      "\t\t\tNonbondedForce: -171848.04722736316\n",
      "\t\t\tAndersenThermostat: 0.0\n",
      "\t\t\tMonteCarloBarostat: 0.0\n",
      "Desired platform not supported. exception raised: Error initializing CUDA: CUDA_ERROR_NO_DEVICE (100) at /opt/conda/conda-bld/openmm_1589508244174/work/platforms/cuda/src/CudaContext.cpp:148\n",
      "Warning: Returning Reference platform instead of requested platform CUDA\n",
      "conducting subsequent work with the following platform: Reference\n",
      "\t\t\tCustomBondForce: 7.446832131436619\n",
      "\t\t\tHarmonicBondForce: 1537.3063099834064\n",
      "\t\t\tCustomAngleForce: 20.11822797505362\n",
      "\t\t\tHarmonicAngleForce: 4261.292863332178\n",
      "\t\t\tCustomTorsionForce: 7.503674064679856\n",
      "\t\t\tPeriodicTorsionForce: 6206.444645913117\n",
      "\t\t\tNonbondedForce: -171784.74226179617\n",
      "\t\t\tCustomNonbondedForce: -58.639513759618815\n",
      "\t\t\tCustomBondForce: 0.0\n",
      "\t\t\tAndersenThermostat: 0.0\n",
      "\t\t\tMonteCarloBarostat: 0.0\n",
      "Desired platform not supported. exception raised: Error initializing CUDA: CUDA_ERROR_NO_DEVICE (100) at /opt/conda/conda-bld/openmm_1589508244174/work/platforms/cuda/src/CudaContext.cpp:148\n",
      "Warning: Returning Reference platform instead of requested platform CUDA\n",
      "conducting subsequent work with the following platform: Reference\n",
      "\t\t\tCustomBondForce: 7.446832131436619\n",
      "\t\t\tHarmonicBondForce: 1537.3063099834064\n",
      "\t\t\tCustomAngleForce: 20.11822797505362\n",
      "\t\t\tHarmonicAngleForce: 4261.292863332178\n",
      "\t\t\tCustomTorsionForce: 7.281132298101463\n",
      "\t\t\tPeriodicTorsionForce: 6206.444645913117\n",
      "\t\t\tNonbondedForce: -171765.1882210823\n",
      "\t\t\tCustomNonbondedForce: 1001.8095404595856\n",
      "\t\t\tCustomBondForce: 0.0\n",
      "\t\t\tAndersenThermostat: 0.0\n",
      "\t\t\tMonteCarloBarostat: 0.0\n",
      "Desired platform not supported. exception raised: Error initializing CUDA: CUDA_ERROR_NO_DEVICE (100) at /opt/conda/conda-bld/openmm_1589508244174/work/platforms/cuda/src/CudaContext.cpp:148\n",
      "Warning: Returning Reference platform instead of requested platform CUDA\n",
      "conducting subsequent work with the following platform: Reference\n"
     ]
    },
    {
     "name": "stderr",
     "output_type": "stream",
     "text": [
      "INFO:proposal_generator:\tConducting polymer point mutation proposal...\n"
     ]
    },
    {
     "name": "stdout",
     "output_type": "stream",
     "text": [
      "\t\t\tHarmonicBondForce: 1544.7531421148433\n",
      "\t\t\tHarmonicAngleForce: 4279.155172380019\n",
      "\t\t\tPeriodicTorsionForce: 6212.829689324848\n",
      "\t\t\tNonbondedForce: -170760.96511909837\n",
      "\t\t\tAndersenThermostat: 0.0\n",
      "\t\t\tMonteCarloBarostat: 0.0\n"
     ]
    },
    {
     "name": "stderr",
     "output_type": "stream",
     "text": [
      "INFO:proposal_generator:Using matching_criterion to chose best atom map\n",
      "INFO:proposal_generator:Scaffold has symmetry of 0\n",
      "WARNING:proposal_generator:Two molecules are not similar to have a common scaffold\n",
      "WARNING:proposal_generator:Proceeding with direct mapping of molecules, but please check atom mapping and the geometry of the ligands.\n",
      "INFO:proposal_generator:len [{}, {}, {8: 6}, {9: 6}, {10: 6}]\n",
      "INFO:proposal_generator:{}\n",
      "INFO:proposal_generator:{}\n",
      "INFO:proposal_generator:{8: 6}\n",
      "INFO:proposal_generator:{9: 6}\n",
      "INFO:proposal_generator:{10: 6}\n",
      "INFO:proposal_generator:Returning map that best satisfies matching_criterion\n",
      "INFO:proposal_generator:Finding best map using matching_criterion name\n",
      "INFO:proposal_generator:{}\n",
      "INFO:geometry:propose: performing forward proposal\n",
      "INFO:geometry:propose: unique new atoms detected; proceeding to _logp_propose...\n",
      "INFO:geometry:Conducting forward proposal...\n",
      "INFO:geometry:Computing proposal order with NetworkX...\n",
      "INFO:geometry:number of atoms to be placed: 5\n",
      "INFO:geometry:Atom index proposal order is [2611, 2614, 2612, 2613, 2615]\n",
      "INFO:geometry:omitted_bonds: []\n",
      "INFO:geometry:direction of proposal is forward; creating atoms_with_positions and new positions from old system/topology...\n",
      "INFO:geometry:creating growth system...\n",
      "INFO:geometry:\tcreating bond force...\n",
      "INFO:geometry:\tthere are 2458 bonds in reference force.\n",
      "INFO:geometry:\tcreating angle force...\n",
      "INFO:geometry:\tthere are 8743 angles in reference force.\n",
      "INFO:geometry:\tcreating torsion force...\n",
      "INFO:geometry:\tcreating extra torsions force...\n",
      "INFO:geometry:\tthere are 16213 torsions in reference force.\n",
      "INFO:geometry:\tcreating nonbonded force...\n",
      "INFO:geometry:\t\tgrabbing reference nonbonded method, cutoff, switching function, switching distance...\n",
      "INFO:geometry:\t\tcreating nonbonded exception force (i.e. custom bond for 1,4s)...\n",
      "INFO:geometry:\t\tlooping through exceptions calculating growth indices, and adding appropriate interactions to custom bond force.\n",
      "INFO:geometry:\t\tthere are 75988 in the reference Nonbonded force\n",
      "WARNING:geometry:\t\t\t\t\tchiral atom <Atom 2607 (CA) of chain 0 residue 166 (CYS)> with neighbors [<Atom 2608 (C) of chain 0 residue 166 (CYS)>, <Atom 2605 (N) of chain 0 residue 166 (CYS)>, <Atom 2610 (HA) of chain 0 residue 166 (CYS)>, <Atom 2611 (CB) of chain 0 residue 166 (CYS)>] is surrounded by 3 core neighbors.  omitting chirality bias torsion\n",
      "INFO:geometry:Neglected angle terms : []\n",
      "INFO:geometry:omitted_growth_terms: {'bonds': [], 'angles': [], 'torsions': [], '1,4s': []}\n",
      "INFO:geometry:extra torsions: {}\n",
      "INFO:geometry:neglected angle terms include []\n",
      "INFO:geometry:log probability choice of torsions and atom order: -6.4457198193855785\n",
      "INFO:geometry:creating platform, integrators, and contexts; setting growth parameter\n",
      "INFO:geometry:setting atoms_with_positions context new positions\n"
     ]
    },
    {
     "name": "stdout",
     "output_type": "stream",
     "text": [
      "Desired platform not supported. exception raised: Error initializing CUDA: CUDA_ERROR_NO_DEVICE (100) at /opt/conda/conda-bld/openmm_1589508244174/work/platforms/cuda/src/CudaContext.cpp:148\n",
      "Warning: Returning Reference platform instead of requested platform CUDA\n",
      "conducting subsequent work with the following platform: Reference\n",
      "Desired platform not supported. exception raised: Error initializing CUDA: CUDA_ERROR_NO_DEVICE (100) at /opt/conda/conda-bld/openmm_1589508244174/work/platforms/cuda/src/CudaContext.cpp:148\n",
      "Warning: Returning Reference platform instead of requested platform CUDA\n",
      "conducting subsequent work with the following platform: Reference\n"
     ]
    },
    {
     "name": "stderr",
     "output_type": "stream",
     "text": [
      "INFO:geometry:There are 5 new atoms\n",
      "INFO:geometry:\treduced angle potential = 0.5711868837543855.\n",
      "INFO:geometry:\treduced angle potential = 1.8270564462229044.\n",
      "INFO:geometry:\treduced angle potential = 0.15244970165940103.\n",
      "INFO:geometry:\treduced angle potential = 0.0020777591846074433.\n",
      "INFO:geometry:\treduced angle potential = 0.39639707127268925.\n",
      "INFO:geometry:\tbeginning construction of no_nonbonded final system...\n",
      "INFO:geometry:\tinitial no-nonbonded final system forces ['HarmonicBondForce', 'HarmonicAngleForce', 'PeriodicTorsionForce', 'NonbondedForce', 'MonteCarloBarostat']\n",
      "INFO:geometry:\tfinal no-nonbonded final system forces dict_keys(['HarmonicBondForce', 'HarmonicAngleForce', 'PeriodicTorsionForce', 'NonbondedForce'])\n",
      "INFO:geometry:\tthere are 2458 bond forces in the no-nonbonded final system\n",
      "INFO:geometry:\tthere are 8743 angle forces in the no-nonbonded final system\n",
      "INFO:geometry:\tthere are 16213 torsion forces in the no-nonbonded final system\n",
      "INFO:geometry:forward final system defined with 0 neglected angles.\n"
     ]
    },
    {
     "name": "stdout",
     "output_type": "stream",
     "text": [
      "Desired platform not supported. exception raised: Error initializing CUDA: CUDA_ERROR_NO_DEVICE (100) at /opt/conda/conda-bld/openmm_1589508244174/work/platforms/cuda/src/CudaContext.cpp:148\n",
      "Warning: Returning Reference platform instead of requested platform CUDA\n",
      "conducting subsequent work with the following platform: Reference\n"
     ]
    },
    {
     "name": "stderr",
     "output_type": "stream",
     "text": [
      "INFO:geometry:total reduced potential before atom placement: 12215.99000924589\n"
     ]
    },
    {
     "name": "stdout",
     "output_type": "stream",
     "text": [
      "Desired platform not supported. exception raised: Error initializing CUDA: CUDA_ERROR_NO_DEVICE (100) at /opt/conda/conda-bld/openmm_1589508244174/work/platforms/cuda/src/CudaContext.cpp:148\n",
      "Warning: Returning Reference platform instead of requested platform CUDA\n",
      "conducting subsequent work with the following platform: Reference\n",
      "Desired platform not supported. exception raised: Error initializing CUDA: CUDA_ERROR_NO_DEVICE (100) at /opt/conda/conda-bld/openmm_1589508244174/work/platforms/cuda/src/CudaContext.cpp:148\n",
      "Warning: Returning Reference platform instead of requested platform CUDA\n",
      "conducting subsequent work with the following platform: Reference\n",
      "Desired platform not supported. exception raised: Error initializing CUDA: CUDA_ERROR_NO_DEVICE (100) at /opt/conda/conda-bld/openmm_1589508244174/work/platforms/cuda/src/CudaContext.cpp:148\n",
      "Warning: Returning Reference platform instead of requested platform CUDA\n",
      "conducting subsequent work with the following platform: Reference\n",
      "Desired platform not supported. exception raised: Error initializing CUDA: CUDA_ERROR_NO_DEVICE (100) at /opt/conda/conda-bld/openmm_1589508244174/work/platforms/cuda/src/CudaContext.cpp:148\n",
      "Warning: Returning Reference platform instead of requested platform CUDA\n",
      "conducting subsequent work with the following platform: Reference\n"
     ]
    },
    {
     "name": "stderr",
     "output_type": "stream",
     "text": [
      "INFO:geometry:total reduced energy added from growth system: 22.08973446186599\n",
      "INFO:geometry:final reduced energy 12238.079743707754\n",
      "INFO:geometry:sum of energies: 12238.079743707756\n",
      "INFO:geometry:magnitude of difference in the energies: 1.708855279503041e-12\n",
      "INFO:geometry:Final logp_proposal: 33.87829213878605\n",
      "INFO:geometry:logp_reverse: performing reverse proposal\n",
      "INFO:geometry:logp_reverse: unique new atoms detected; proceeding to _logp_propose...\n",
      "INFO:geometry:Conducting forward proposal...\n",
      "INFO:geometry:Computing proposal order with NetworkX...\n",
      "INFO:geometry:number of atoms to be placed: 1\n",
      "INFO:geometry:Atom index proposal order is [2608]\n",
      "INFO:geometry:omitted_bonds: []\n",
      "INFO:geometry:direction of proposal is reverse; creating atoms_with_positions from old system/topology\n"
     ]
    },
    {
     "name": "stdout",
     "output_type": "stream",
     "text": [
      "added energy components: [('CustomBondForce', 0.329997618044597), ('CustomAngleForce', 6.1642670969147995), ('CustomTorsionForce', 9.354616919449116), ('CustomBondForce', 6.240852827457475)]\n"
     ]
    },
    {
     "name": "stderr",
     "output_type": "stream",
     "text": [
      "INFO:geometry:creating growth system...\n",
      "INFO:geometry:\tcreating bond force...\n",
      "INFO:geometry:\tthere are 2456 bonds in reference force.\n",
      "INFO:geometry:\tcreating angle force...\n",
      "INFO:geometry:\tthere are 8736 angles in reference force.\n",
      "INFO:geometry:\tcreating torsion force...\n",
      "INFO:geometry:\tcreating extra torsions force...\n",
      "INFO:geometry:\tthere are 16188 torsions in reference force.\n",
      "INFO:geometry:\tcreating nonbonded force...\n",
      "INFO:geometry:\t\tgrabbing reference nonbonded method, cutoff, switching function, switching distance...\n",
      "INFO:geometry:\t\tcreating nonbonded exception force (i.e. custom bond for 1,4s)...\n",
      "INFO:geometry:\t\tlooping through exceptions calculating growth indices, and adding appropriate interactions to custom bond force.\n",
      "INFO:geometry:\t\tthere are 75965 in the reference Nonbonded force\n",
      "INFO:geometry:Neglected angle terms : []\n",
      "INFO:geometry:omitted_growth_terms: {'bonds': [], 'angles': [], 'torsions': [], '1,4s': []}\n",
      "INFO:geometry:extra torsions: {}\n",
      "INFO:geometry:neglected angle terms include []\n",
      "INFO:geometry:log probability choice of torsions and atom order: -0.6931471805599453\n",
      "INFO:geometry:creating platform, integrators, and contexts; setting growth parameter\n",
      "INFO:geometry:setting atoms_with_positions context old positions\n"
     ]
    },
    {
     "name": "stdout",
     "output_type": "stream",
     "text": [
      "Desired platform not supported. exception raised: Error initializing CUDA: CUDA_ERROR_NO_DEVICE (100) at /opt/conda/conda-bld/openmm_1589508244174/work/platforms/cuda/src/CudaContext.cpp:148\n",
      "Warning: Returning Reference platform instead of requested platform CUDA\n",
      "conducting subsequent work with the following platform: Reference\n",
      "Desired platform not supported. exception raised: Error initializing CUDA: CUDA_ERROR_NO_DEVICE (100) at /opt/conda/conda-bld/openmm_1589508244174/work/platforms/cuda/src/CudaContext.cpp:148\n",
      "Warning: Returning Reference platform instead of requested platform CUDA\n",
      "conducting subsequent work with the following platform: Reference\n"
     ]
    },
    {
     "name": "stderr",
     "output_type": "stream",
     "text": [
      "INFO:geometry:There are 1 new atoms\n",
      "INFO:geometry:\treduced angle potential = 1.525759426572961.\n",
      "INFO:geometry:\tbeginning construction of no_nonbonded final system...\n",
      "INFO:geometry:\tinitial no-nonbonded final system forces ['HarmonicBondForce', 'HarmonicAngleForce', 'PeriodicTorsionForce', 'NonbondedForce', 'MonteCarloBarostat']\n",
      "INFO:geometry:\tfinal no-nonbonded final system forces dict_keys(['HarmonicBondForce', 'HarmonicAngleForce', 'PeriodicTorsionForce', 'NonbondedForce'])\n",
      "INFO:geometry:\tthere are 2456 bond forces in the no-nonbonded final system\n",
      "INFO:geometry:\tthere are 8736 angle forces in the no-nonbonded final system\n",
      "INFO:geometry:\tthere are 16188 torsion forces in the no-nonbonded final system\n",
      "INFO:geometry:reverse final system defined with 0 neglected angles.\n"
     ]
    },
    {
     "name": "stdout",
     "output_type": "stream",
     "text": [
      "Desired platform not supported. exception raised: Error initializing CUDA: CUDA_ERROR_NO_DEVICE (100) at /opt/conda/conda-bld/openmm_1589508244174/work/platforms/cuda/src/CudaContext.cpp:148\n",
      "Warning: Returning Reference platform instead of requested platform CUDA\n",
      "conducting subsequent work with the following platform: Reference\n"
     ]
    },
    {
     "name": "stderr",
     "output_type": "stream",
     "text": [
      "INFO:geometry:total reduced potential before atom placement: 12216.23154552257\n"
     ]
    },
    {
     "name": "stdout",
     "output_type": "stream",
     "text": [
      "Desired platform not supported. exception raised: Error initializing CUDA: CUDA_ERROR_NO_DEVICE (100) at /opt/conda/conda-bld/openmm_1589508244174/work/platforms/cuda/src/CudaContext.cpp:148\n",
      "Warning: Returning Reference platform instead of requested platform CUDA\n",
      "conducting subsequent work with the following platform: Reference\n",
      "Desired platform not supported. exception raised: Error initializing CUDA: CUDA_ERROR_NO_DEVICE (100) at /opt/conda/conda-bld/openmm_1589508244174/work/platforms/cuda/src/CudaContext.cpp:148\n",
      "Warning: Returning Reference platform instead of requested platform CUDA\n",
      "conducting subsequent work with the following platform: Reference\n",
      "Desired platform not supported. exception raised: Error initializing CUDA: CUDA_ERROR_NO_DEVICE (100) at /opt/conda/conda-bld/openmm_1589508244174/work/platforms/cuda/src/CudaContext.cpp:148\n",
      "Warning: Returning Reference platform instead of requested platform CUDA\n",
      "conducting subsequent work with the following platform: Reference\n",
      "Desired platform not supported. exception raised: Error initializing CUDA: CUDA_ERROR_NO_DEVICE (100) at /opt/conda/conda-bld/openmm_1589508244174/work/platforms/cuda/src/CudaContext.cpp:148\n",
      "Warning: Returning Reference platform instead of requested platform CUDA\n",
      "conducting subsequent work with the following platform: Reference\n"
     ]
    },
    {
     "name": "stderr",
     "output_type": "stream",
     "text": [
      "INFO:geometry:total reduced energy added from growth system: 0.7384462890061946\n",
      "INFO:geometry:final reduced energy 12216.969991811577\n",
      "INFO:geometry:sum of energies: 12216.969991811577\n",
      "INFO:geometry:magnitude of difference in the energies: 3.1608049511078207e-13\n",
      "INFO:geometry:Final logp_proposal: 5.084771582981469\n",
      "INFO:relative:Beginning nonbonded method, total particle, barostat, and exceptions retrieval...\n",
      "INFO:relative:Old system forces: dict_keys(['HarmonicBondForce', 'HarmonicAngleForce', 'PeriodicTorsionForce', 'NonbondedForce', 'MonteCarloBarostat'])\n"
     ]
    },
    {
     "name": "stdout",
     "output_type": "stream",
     "text": [
      "added energy components: [('CustomBondForce', 0.0), ('CustomAngleForce', 2.2559189272125093), ('CustomTorsionForce', 0.8960888863708859), ('CustomBondForce', -2.4135615245772004)]\n"
     ]
    },
    {
     "name": "stderr",
     "output_type": "stream",
     "text": [
      "INFO:relative:New system forces: dict_keys(['HarmonicBondForce', 'HarmonicAngleForce', 'PeriodicTorsionForce', 'NonbondedForce', 'MonteCarloBarostat'])\n",
      "INFO:relative:No unknown forces.\n",
      "INFO:relative:Nonbonded method to be used (i.e. from old system): 4\n",
      "INFO:relative:Adding and mapping old atoms to hybrid system...\n",
      "INFO:relative:Adding and mapping new atoms to hybrid system...\n",
      "INFO:relative:Added MonteCarloBarostat.\n",
      "INFO:relative:getDefaultPeriodicBoxVectors added to hybrid: [Quantity(value=Vec3(x=8.3344, y=0.0, z=0.0), unit=nanometer), Quantity(value=Vec3(x=0.0, y=8.3344, z=0.0), unit=nanometer), Quantity(value=Vec3(x=0.0, y=0.0, z=8.3344), unit=nanometer)]\n",
      "INFO:relative:Determined atom classes.\n",
      "INFO:relative:Generating old system exceptions dict...\n",
      "INFO:relative:Generating new system exceptions dict...\n",
      "INFO:relative:Handling constraints...\n",
      "INFO:relative:Handling virtual sites...\n",
      "INFO:relative:\t_handle_virtual_sites: numVirtualSites: 0\n",
      "INFO:relative:Adding bond force terms...\n",
      "INFO:relative:Adding angle force terms...\n",
      "INFO:relative:Adding torsion force terms...\n",
      "INFO:relative:Adding nonbonded force terms...\n",
      "INFO:relative:\t_add_nonbonded_force_terms: <simtk.openmm.openmm.NonbondedForce; proxy of <Swig Object of type 'OpenMM::NonbondedForce *' at 0x2b0bc2133c90> > added to hybrid system\n",
      "INFO:relative:\t_add_nonbonded_force_terms: nonbonded_method is PME or Ewald\n",
      "INFO:relative:\t_add_nonbonded_force_terms: 4 added to standard nonbonded force\n",
      "INFO:relative:\t_add_nonbonded_force_terms: 2 added to sterics_custom_nonbonded force\n",
      "INFO:relative:\t_add_nonbonded_force_terms: <simtk.openmm.openmm.CustomNonbondedForce; proxy of <Swig Object of type 'OpenMM::CustomNonbondedForce *' at 0x2b0bc2133bd0> > added to hybrid system\n",
      "INFO:relative:Handling harmonic bonds...\n",
      "INFO:relative:\thandle_harmonic_bonds: looping through old_system to add relevant terms...\n",
      "INFO:relative:\thandle_harmonic_bonds: looping through new_system to add relevant terms...\n",
      "INFO:relative:Handling harmonic angles...\n",
      "INFO:relative:\thandle_harmonic_angles: looping through old_system to add relevant terms...\n",
      "INFO:relative:\thandle_harmonic_angles: looping through new_system to add relevant terms...\n",
      "INFO:relative:Handling torsion forces...\n",
      "INFO:relative:\thandle_periodic_torsion_forces: looping through old_system to add relevant terms...\n",
      "INFO:relative:\thandle_periodic_torsion_forces: looping through new_system to add relevant terms...\n",
      "INFO:relative:Handling nonbonded forces...\n",
      "INFO:relative:\thandle_nonbonded: looping through all particles in hybrid...\n",
      "INFO:relative:\thandle_nonbonded: Handling Interaction Groups...\n",
      "INFO:relative:\thandle_nonbonded: Handling Hybrid Exceptions...\n",
      "INFO:relative:\thandle_nonbonded: Handling Original Exceptions...\n",
      "INFO:relative:Handling unique_new/old interaction exceptions...\n",
      "INFO:relative:There are old or new system exceptions...proceeding.\n"
     ]
    },
    {
     "name": "stdout",
     "output_type": "stream",
     "text": [
      "Desired platform not supported. exception raised: Error initializing CUDA: CUDA_ERROR_NO_DEVICE (100) at /opt/conda/conda-bld/openmm_1589508244174/work/platforms/cuda/src/CudaContext.cpp:148\n",
      "Warning: Returning Reference platform instead of requested platform CUDA\n",
      "conducting subsequent work with the following platform: Reference\n",
      "Desired platform not supported. exception raised: Error initializing CUDA: CUDA_ERROR_NO_DEVICE (100) at /opt/conda/conda-bld/openmm_1589508244174/work/platforms/cuda/src/CudaContext.cpp:148\n",
      "Warning: Returning Reference platform instead of requested platform CUDA\n",
      "conducting subsequent work with the following platform: Reference\n",
      "\t\t\tHarmonicBondForce: 1568.4139544805153\n",
      "\t\t\tHarmonicAngleForce: 4411.49604501638\n",
      "\t\t\tPeriodicTorsionForce: 6239.473553839257\n",
      "\t\t\tNonbondedForce: -180928.20330914756\n",
      "\t\t\tAndersenThermostat: 0.0\n",
      "\t\t\tMonteCarloBarostat: 0.0\n",
      "Desired platform not supported. exception raised: Error initializing CUDA: CUDA_ERROR_NO_DEVICE (100) at /opt/conda/conda-bld/openmm_1589508244174/work/platforms/cuda/src/CudaContext.cpp:148\n",
      "Warning: Returning Reference platform instead of requested platform CUDA\n",
      "conducting subsequent work with the following platform: Reference\n",
      "\t\t\tCustomBondForce: 7.446832131436619\n",
      "\t\t\tHarmonicBondForce: 1561.297119967123\n",
      "\t\t\tCustomAngleForce: 20.11822797505362\n",
      "\t\t\tHarmonicAngleForce: 4397.54208413824\n",
      "\t\t\tCustomTorsionForce: 7.662765436847207\n",
      "\t\t\tPeriodicTorsionForce: 6241.165405321858\n",
      "\t\t\tNonbondedForce: -180854.55322165473\n",
      "\t\t\tCustomNonbondedForce: -67.40923466607111\n",
      "\t\t\tCustomBondForce: 0.0\n",
      "\t\t\tAndersenThermostat: 0.0\n",
      "\t\t\tMonteCarloBarostat: 0.0\n",
      "Desired platform not supported. exception raised: Error initializing CUDA: CUDA_ERROR_NO_DEVICE (100) at /opt/conda/conda-bld/openmm_1589508244174/work/platforms/cuda/src/CudaContext.cpp:148\n",
      "Warning: Returning Reference platform instead of requested platform CUDA\n",
      "conducting subsequent work with the following platform: Reference\n",
      "\t\t\tCustomBondForce: 7.446832131436619\n",
      "\t\t\tHarmonicBondForce: 1561.297119967123\n",
      "\t\t\tCustomAngleForce: 20.11822797505362\n",
      "\t\t\tHarmonicAngleForce: 4397.54208413824\n",
      "\t\t\tCustomTorsionForce: 7.421229160166687\n",
      "\t\t\tPeriodicTorsionForce: 6241.165405321858\n",
      "\t\t\tNonbondedForce: -180840.129068307\n",
      "\t\t\tCustomNonbondedForce: 23209.077057827442\n",
      "\t\t\tCustomBondForce: 0.0\n",
      "\t\t\tAndersenThermostat: 0.0\n",
      "\t\t\tMonteCarloBarostat: 0.0\n",
      "Desired platform not supported. exception raised: Error initializing CUDA: CUDA_ERROR_NO_DEVICE (100) at /opt/conda/conda-bld/openmm_1589508244174/work/platforms/cuda/src/CudaContext.cpp:148\n",
      "Warning: Returning Reference platform instead of requested platform CUDA\n",
      "conducting subsequent work with the following platform: Reference\n",
      "\t\t\tHarmonicBondForce: 1568.74395209856\n",
      "\t\t\tHarmonicAngleForce: 4415.404393186082\n",
      "\t\t\tPeriodicTorsionForce: 6247.690545595655\n",
      "\t\t\tNonbondedForce: -157628.638448957\n",
      "\t\t\tAndersenThermostat: 0.0\n",
      "\t\t\tMonteCarloBarostat: 0.0\n"
     ]
    }
   ],
   "source": [
    "# Solvent\n",
    "solvent_delivery = PointMutationExecutor(\"./data/4yne_lar_apo.pdb\", \n",
    "                        '1', # First and only protein chain \n",
    "                        '667', \n",
    "                        'CYS',\n",
    "                        ligand_file=\"./data/lar.sdf\",\n",
    "                        ionic_strength=0.15*unit.molar\n",
    "                       )"
   ]
  },
  {
   "cell_type": "markdown",
   "metadata": {},
   "source": [
    "#### 1.1.1 Check maps"
   ]
  },
  {
   "cell_type": "code",
   "execution_count": 6,
   "metadata": {},
   "outputs": [],
   "source": [
    "def render_protein_residue_atom_mapping(topology_proposal, filename):\n",
    "    \"\"\"\n",
    "    wrap the `render_atom_mapping` method around protein point mutation topologies.\n",
    "    TODO : make modification to `render_atom_mapping` so that the backbone atoms are not written in the output.\n",
    "    \n",
    "    arguments\n",
    "        topology_proposal : perses.rjmc.topology_proposal.TopologyProposal object\n",
    "            topology proposal of protein mutation\n",
    "        filename : str\n",
    "            filename to write the map\n",
    "    \"\"\"\n",
    "    from perses.utils.smallmolecules import render_atom_mapping\n",
    "    oe_res_maps = {}\n",
    "    for omm_new_idx, omm_old_idx in topology_proposal._new_to_old_atom_map.items():\n",
    "        if omm_new_idx in topology_proposal._new_topology.residue_to_oemol_map.keys():\n",
    "            try:\n",
    "                oe_res_maps[topology_proposal._new_topology.residue_to_oemol_map[omm_new_idx]] = topology_proposal._old_topology.residue_to_oemol_map[omm_old_idx]\n",
    "            except:\n",
    "                pass\n",
    "            \n",
    "    render_atom_mapping(filename, topology_proposal._old_topology.residue_oemol, topology_proposal._new_topology.residue_oemol, oe_res_maps)\n",
    "\n",
    "render_protein_residue_atom_mapping(solvent_delivery.get_apo_htf()._topology_proposal, \"./output/4yne_lar_g667c_apo_map.png\")"
   ]
  },
  {
   "cell_type": "markdown",
   "metadata": {},
   "source": [
    "![G667C Map](./output/apo_map.png)"
   ]
  },
  {
   "cell_type": "markdown",
   "metadata": {},
   "source": [
    "#### Save hybrid topology factories as pickle objects"
   ]
  },
  {
   "cell_type": "code",
   "execution_count": 7,
   "metadata": {},
   "outputs": [],
   "source": [
    "out_dir = './output'\n",
    "pickle.dump(solvent_delivery.get_apo_htf(), open(os.path.join(out_dir, \"4yne_lar_g667c_apo.pickle\"), \"wb\" ))\n",
    "pickle.dump(solvent_delivery.get_complex_htf(), open(os.path.join(out_dir, \"4yne_lar_g667c_complex.pickle\"), \"wb\" ))"
   ]
  },
  {
   "cell_type": "markdown",
   "metadata": {},
   "source": [
    "#### Save coordinates of old and new positions for apo and complex - here we can check the geometry of the transform"
   ]
  },
  {
   "cell_type": "code",
   "execution_count": 8,
   "metadata": {},
   "outputs": [],
   "source": [
    "htfs_t = [solvent_delivery.get_apo_htf(), solvent_delivery.get_complex_htf()]\n",
    "\n",
    "top_old = md.Topology.from_openmm(htfs_t[0]._topology_proposal.old_topology)\n",
    "top_new = md.Topology.from_openmm(htfs_t[0]._topology_proposal.new_topology)\n",
    "traj = md.Trajectory(np.array(htfs_t[0].old_positions(htfs_t[0].hybrid_positions)), top_old)\n",
    "traj.save(\"./output/4yne_lar_g667c_apo_old.pdb\")\n",
    "traj = md.Trajectory(np.array(htfs_t[0].new_positions(htfs_t[0].hybrid_positions)), top_new)\n",
    "traj.save(\"./output/4yne_lar_g667c_apo_new.pdb\")\n",
    "\n",
    "top_old = md.Topology.from_openmm(htfs_t[1]._topology_proposal.old_topology)\n",
    "top_new = md.Topology.from_openmm(htfs_t[1]._topology_proposal.new_topology)\n",
    "traj = md.Trajectory(np.array(htfs_t[1].old_positions(htfs_t[1].hybrid_positions)), top_old)\n",
    "traj.save(\"./output/4yne_lar_g667c_complex_old.pdb\")\n",
    "traj = md.Trajectory(np.array(htfs_t[1].new_positions(htfs_t[1].hybrid_positions)), top_new)\n",
    "traj.save(\"./output/4yne_lar_g667c_complex_new.pdb\")"
   ]
  },
  {
   "cell_type": "markdown",
   "metadata": {},
   "source": [
    "### 1.2 NTRK1 G595R : Larotrectinib"
   ]
  },
  {
   "cell_type": "code",
   "execution_count": 9,
   "metadata": {},
   "outputs": [
    {
     "name": "stderr",
     "output_type": "stream",
     "text": [
      "INFO:utils.openeye:molecule                       does not have unique atom names. Generating now...\n",
      "INFO:utils.openeye:molecule                       has unique atom names already\n",
      "DEBUG:openmmforcefields.system_generators:Trying GAFFTemplateGenerator to load gaff-2.11\n",
      "INFO:root:solvating at 0.15 M using tip3p\n",
      "INFO:root:solvating at 0.15 M using tip3p\n",
      "INFO:openmmforcefields.generators.template_generators:Requested to generate parameters for residue <Residue 297 () of chain 1>\n",
      "INFO:openmmforcefields.generators.template_generators:Generating a residue template for [H]c1c(c(c(c(c1F)[H])[C@]2(C(C(C(N2C3=NC4=C(C(=NN4C(=C3[H])[H])[H])N([H])C(=O)N5C([C@@](C(C5([H])[H])([H])[H])([H])O[H])([H])[H])([H])[H])([H])[H])([H])[H])[H])F)[H] using gaff-2.11\n",
      "DEBUG:openmmforcefields.generators.template_generators:Total charge is 0.0 e\n",
      "DEBUG:openmmforcefields.generators.template_generators:Computing AM1-BCC charges...\n",
      "DEBUG:openmmforcefields.generators.template_generators:Generating a conformer...\n",
      "DEBUG:openmmforcefields.generators.template_generators:Running antechamber...\n",
      "DEBUG:openmmforcefields.generators.template_generators:antechamber -i in.mdl -fi mdl -o out.mol2 -fo mol2 -s 0 -at 2 -dr no\n",
      "DEBUG:openmmforcefields.generators.template_generators:\n",
      "Welcome to antechamber 20.0: molecular input file processor.\n",
      "\n",
      "\n",
      "DEBUG:openmmforcefields.generators.template_generators:parmchk2 -i out.mol2 -f mol2 -p /home/glassw/miniconda/envs/ntrk_mutations_and_perses_dev/lib/python3.7/site-packages/openmmforcefields/ffxml/amber/gaff/dat/gaff-2.11.dat -o out.frcmod -s %2\n",
      "DEBUG:openmmforcefields.generators.template_generators:\n",
      "DEBUG:openmmforcefields.generators.template_generators:Reading GAFF atom types...\n",
      "DEBUG:openmmforcefields.generators.template_generators:Fixing partial charges...\n",
      "DEBUG:openmmforcefields.generators.template_generators:[-0.14392    -0.14203    -0.1292      0.35282001 -0.0926     -0.10363\n",
      "  0.11485     0.11344     0.09425    -0.35392001  0.0261      0.70002002\n",
      "  0.79843003 -0.09077    -0.08553    -0.12873     0.21636     0.11894\n",
      "  0.09044     0.28532001  0.13116001 -0.52126998 -0.62053001  0.13000999\n",
      " -0.74849999 -0.49985999 -0.43972    -0.64037001 -0.59565002 -0.13704\n",
      " -0.138       0.1531      0.15482     0.15448999  0.07791     0.15746\n",
      "  0.17808001  0.057       0.057       0.06258     0.06258     0.05984\n",
      "  0.05984     0.04468     0.04468     0.05779     0.05779     0.05792\n",
      "  0.05792     0.09121     0.05153     0.33581001  0.40509999] e\n",
      "DEBUG:openmmforcefields.generators.template_generators:[-0.14392    -0.14203    -0.1292      0.35282001 -0.0926     -0.10363\n",
      "  0.11485     0.11344     0.09425    -0.35392001  0.0261      0.70002001\n",
      "  0.79843002 -0.09077    -0.08553    -0.12873     0.21636     0.11894\n",
      "  0.09044     0.28532001  0.13116001 -0.52126998 -0.62053001  0.13000999\n",
      " -0.74849999 -0.49985999 -0.43972001 -0.64037001 -0.59565002 -0.13704\n",
      " -0.138       0.1531      0.15481999  0.15448999  0.07791     0.15746\n",
      "  0.17808001  0.057       0.057       0.06258     0.06258     0.05984\n",
      "  0.05984     0.04468     0.04468     0.05779     0.05779     0.05792\n",
      "  0.05792     0.09121     0.05153     0.33581     0.40509999] e\n",
      "DEBUG:openmmforcefields.generators.template_generators:Creating ffxml contents for additional parameters...\n",
      "DEBUG:parmed.openmm.parameters:Valid patch combinations:\n",
      "DEBUG:openmmforcefields.generators.template_generators:Creating residue template...\n",
      "DEBUG:openmmforcefields.generators.template_generators:ffxml creation complete.\n",
      "INFO:proposal_generator:\tConducting polymer point mutation proposal...\n",
      "INFO:proposal_generator:Using matching_criterion to chose best atom map\n",
      "INFO:proposal_generator:Scaffold has symmetry of 0\n",
      "WARNING:proposal_generator:Two molecules are not similar to have a common scaffold\n",
      "WARNING:proposal_generator:Proceeding with direct mapping of molecules, but please check atom mapping and the geometry of the ligands.\n",
      "INFO:proposal_generator:len [{15: 6}, {23: 6}, {22: 6}, {21: 6}, {20: 6}, {19: 6}, {18: 6}, {17: 6}, {16: 6}, {}, {14: 6}, {13: 6}, {}, {}, {}, {}, {}, {}]\n",
      "INFO:proposal_generator:{15: 6}\n",
      "INFO:proposal_generator:{23: 6}\n",
      "INFO:proposal_generator:{22: 6}\n",
      "INFO:proposal_generator:{21: 6}\n",
      "INFO:proposal_generator:{20: 6}\n",
      "INFO:proposal_generator:{19: 6}\n",
      "INFO:proposal_generator:{18: 6}\n",
      "INFO:proposal_generator:{17: 6}\n",
      "INFO:proposal_generator:{16: 6}\n",
      "INFO:proposal_generator:{}\n",
      "INFO:proposal_generator:{14: 6}\n",
      "INFO:proposal_generator:{13: 6}\n",
      "INFO:proposal_generator:{}\n",
      "INFO:proposal_generator:{}\n",
      "INFO:proposal_generator:{}\n",
      "INFO:proposal_generator:{}\n",
      "INFO:proposal_generator:{}\n",
      "INFO:proposal_generator:{}\n",
      "INFO:proposal_generator:Returning map that best satisfies matching_criterion\n",
      "INFO:proposal_generator:Finding best map using matching_criterion name\n",
      "INFO:proposal_generator:{15: 6}\n",
      "INFO:geometry:propose: performing forward proposal\n",
      "INFO:geometry:propose: unique new atoms detected; proceeding to _logp_propose...\n",
      "INFO:geometry:Conducting forward proposal...\n",
      "INFO:geometry:Computing proposal order with NetworkX...\n",
      "INFO:geometry:number of atoms to be placed: 18\n",
      "INFO:geometry:Atom index proposal order is [1550, 1553, 1556, 1559, 1561, 1565, 1562, 1564, 1554, 1567, 1566, 1555, 1560, 1558, 1551, 1563, 1552, 1557]\n",
      "INFO:geometry:omitted_bonds: []\n",
      "INFO:geometry:direction of proposal is forward; creating atoms_with_positions and new positions from old system/topology...\n",
      "INFO:geometry:creating growth system...\n",
      "INFO:geometry:\tcreating bond force...\n",
      "INFO:geometry:\tthere are 2428 bonds in reference force.\n",
      "INFO:geometry:\tcreating angle force...\n",
      "INFO:geometry:\tthere are 8664 angles in reference force.\n",
      "INFO:geometry:\tcreating torsion force...\n",
      "INFO:geometry:\tcreating extra torsions force...\n",
      "INFO:geometry:\tthere are 16078 torsions in reference force.\n",
      "INFO:geometry:\tcreating nonbonded force...\n",
      "INFO:geometry:\t\tgrabbing reference nonbonded method, cutoff, switching function, switching distance...\n",
      "INFO:geometry:\t\tcreating nonbonded exception force (i.e. custom bond for 1,4s)...\n",
      "INFO:geometry:\t\tlooping through exceptions calculating growth indices, and adding appropriate interactions to custom bond force.\n",
      "INFO:geometry:\t\tthere are 75652 in the reference Nonbonded force\n",
      "WARNING:geometry:\t\t\t\t\tchiral atom <Atom 1546 (CA) of chain 0 residue 94 (ARG)> with neighbors [<Atom 1547 (C) of chain 0 residue 94 (ARG)>, <Atom 1544 (N) of chain 0 residue 94 (ARG)>, <Atom 1549 (HA) of chain 0 residue 94 (ARG)>, <Atom 1550 (CB) of chain 0 residue 94 (ARG)>] is surrounded by 3 core neighbors.  omitting chirality bias torsion\n",
      "INFO:geometry:Neglected angle terms : []\n",
      "INFO:geometry:omitted_growth_terms: {'bonds': [], 'angles': [], 'torsions': [], '1,4s': []}\n",
      "INFO:geometry:extra torsions: {}\n",
      "INFO:geometry:neglected angle terms include []\n",
      "INFO:geometry:log probability choice of torsions and atom order: -34.56347742453881\n",
      "INFO:geometry:creating platform, integrators, and contexts; setting growth parameter\n",
      "INFO:geometry:setting atoms_with_positions context new positions\n"
     ]
    },
    {
     "name": "stdout",
     "output_type": "stream",
     "text": [
      "Desired platform not supported. exception raised: Error initializing CUDA: CUDA_ERROR_NO_DEVICE (100) at /opt/conda/conda-bld/openmm_1589508244174/work/platforms/cuda/src/CudaContext.cpp:148\n",
      "Warning: Returning Reference platform instead of requested platform CUDA\n",
      "conducting subsequent work with the following platform: Reference\n"
     ]
    },
    {
     "name": "stderr",
     "output_type": "stream",
     "text": [
      "INFO:geometry:There are 18 new atoms\n",
      "INFO:geometry:\treduced angle potential = 0.7482114239294242.\n"
     ]
    },
    {
     "name": "stdout",
     "output_type": "stream",
     "text": [
      "Desired platform not supported. exception raised: Error initializing CUDA: CUDA_ERROR_NO_DEVICE (100) at /opt/conda/conda-bld/openmm_1589508244174/work/platforms/cuda/src/CudaContext.cpp:148\n",
      "Warning: Returning Reference platform instead of requested platform CUDA\n",
      "conducting subsequent work with the following platform: Reference\n"
     ]
    },
    {
     "name": "stderr",
     "output_type": "stream",
     "text": [
      "INFO:geometry:\treduced angle potential = 0.0039619313667443035.\n",
      "INFO:geometry:\treduced angle potential = 2.0594689794100343.\n",
      "INFO:geometry:\treduced angle potential = 0.2225255012823071.\n",
      "INFO:geometry:\treduced angle potential = 0.007987234620526477.\n",
      "INFO:geometry:\treduced angle potential = 0.13334681727330394.\n",
      "INFO:geometry:\treduced angle potential = 0.05070683375808109.\n",
      "INFO:geometry:\treduced angle potential = 0.07371152563595885.\n",
      "INFO:geometry:\treduced angle potential = 1.0940766480551793.\n",
      "INFO:geometry:\treduced angle potential = 0.04948168166566255.\n",
      "INFO:geometry:\treduced angle potential = 2.568116945382983.\n",
      "INFO:geometry:\treduced angle potential = 0.02641317541950163.\n",
      "INFO:geometry:\treduced angle potential = 0.3316314970530042.\n",
      "INFO:geometry:\treduced angle potential = 0.004236057736248156.\n",
      "INFO:geometry:\treduced angle potential = 0.08265290790546147.\n",
      "INFO:geometry:\treduced angle potential = 0.0010856378632534175.\n",
      "INFO:geometry:\treduced angle potential = 1.2143334132784431.\n",
      "INFO:geometry:\treduced angle potential = 0.9578502099853279.\n",
      "INFO:geometry:\tbeginning construction of no_nonbonded final system...\n",
      "INFO:geometry:\tinitial no-nonbonded final system forces ['HarmonicBondForce', 'HarmonicAngleForce', 'PeriodicTorsionForce', 'NonbondedForce', 'MonteCarloBarostat']\n",
      "INFO:geometry:\tfinal no-nonbonded final system forces dict_keys(['HarmonicBondForce', 'HarmonicAngleForce', 'PeriodicTorsionForce', 'NonbondedForce'])\n",
      "INFO:geometry:\tthere are 2428 bond forces in the no-nonbonded final system\n",
      "INFO:geometry:\tthere are 8664 angle forces in the no-nonbonded final system\n",
      "INFO:geometry:\tthere are 16078 torsion forces in the no-nonbonded final system\n",
      "INFO:geometry:forward final system defined with 0 neglected angles.\n"
     ]
    },
    {
     "name": "stdout",
     "output_type": "stream",
     "text": [
      "Desired platform not supported. exception raised: Error initializing CUDA: CUDA_ERROR_NO_DEVICE (100) at /opt/conda/conda-bld/openmm_1589508244174/work/platforms/cuda/src/CudaContext.cpp:148\n",
      "Warning: Returning Reference platform instead of requested platform CUDA\n",
      "conducting subsequent work with the following platform: Reference\n"
     ]
    },
    {
     "name": "stderr",
     "output_type": "stream",
     "text": [
      "INFO:geometry:total reduced potential before atom placement: 12016.018686895177\n"
     ]
    },
    {
     "name": "stdout",
     "output_type": "stream",
     "text": [
      "Desired platform not supported. exception raised: Error initializing CUDA: CUDA_ERROR_NO_DEVICE (100) at /opt/conda/conda-bld/openmm_1589508244174/work/platforms/cuda/src/CudaContext.cpp:148\n",
      "Warning: Returning Reference platform instead of requested platform CUDA\n",
      "conducting subsequent work with the following platform: Reference\n",
      "Desired platform not supported. exception raised: Error initializing CUDA: CUDA_ERROR_NO_DEVICE (100) at /opt/conda/conda-bld/openmm_1589508244174/work/platforms/cuda/src/CudaContext.cpp:148\n",
      "Warning: Returning Reference platform instead of requested platform CUDA\n",
      "conducting subsequent work with the following platform: Reference\n",
      "Desired platform not supported. exception raised: Error initializing CUDA: CUDA_ERROR_NO_DEVICE (100) at /opt/conda/conda-bld/openmm_1589508244174/work/platforms/cuda/src/CudaContext.cpp:148\n",
      "Warning: Returning Reference platform instead of requested platform CUDA\n",
      "conducting subsequent work with the following platform: Reference\n",
      "Desired platform not supported. exception raised: Error initializing CUDA: CUDA_ERROR_NO_DEVICE (100) at /opt/conda/conda-bld/openmm_1589508244174/work/platforms/cuda/src/CudaContext.cpp:148\n",
      "Warning: Returning Reference platform instead of requested platform CUDA\n",
      "conducting subsequent work with the following platform: Reference\n"
     ]
    },
    {
     "name": "stderr",
     "output_type": "stream",
     "text": [
      "INFO:geometry:total reduced energy added from growth system: -441.000324371924\n",
      "INFO:geometry:final reduced energy 11575.018362523251\n",
      "INFO:geometry:sum of energies: 11575.018362523253\n",
      "INFO:geometry:magnitude of difference in the energies: 1.6484591469634324e-12\n",
      "INFO:geometry:Final logp_proposal: 97.11413947250361\n",
      "INFO:geometry:logp_reverse: performing reverse proposal\n",
      "INFO:geometry:logp_reverse: unique new atoms detected; proceeding to _logp_propose...\n",
      "INFO:geometry:Conducting forward proposal...\n",
      "INFO:geometry:Computing proposal order with NetworkX...\n",
      "INFO:geometry:number of atoms to be placed: 1\n",
      "INFO:geometry:Atom index proposal order is [1547]\n",
      "INFO:geometry:omitted_bonds: []\n",
      "INFO:geometry:direction of proposal is reverse; creating atoms_with_positions from old system/topology\n"
     ]
    },
    {
     "name": "stdout",
     "output_type": "stream",
     "text": [
      "added energy components: [('CustomBondForce', 1.3780721884630531), ('CustomAngleForce', 18.75041442138927), ('CustomTorsionForce', 19.29835246723287), ('CustomBondForce', -480.42716344900924)]\n"
     ]
    },
    {
     "name": "stderr",
     "output_type": "stream",
     "text": [
      "INFO:geometry:creating growth system...\n",
      "INFO:geometry:\tcreating bond force...\n",
      "INFO:geometry:\tthere are 2421 bonds in reference force.\n",
      "INFO:geometry:\tcreating angle force...\n",
      "INFO:geometry:\tthere are 8634 angles in reference force.\n",
      "INFO:geometry:\tcreating torsion force...\n",
      "INFO:geometry:\tcreating extra torsions force...\n",
      "INFO:geometry:\tthere are 16029 torsions in reference force.\n",
      "INFO:geometry:\tcreating nonbonded force...\n",
      "INFO:geometry:\t\tgrabbing reference nonbonded method, cutoff, switching function, switching distance...\n",
      "INFO:geometry:\t\tcreating nonbonded exception force (i.e. custom bond for 1,4s)...\n",
      "INFO:geometry:\t\tlooping through exceptions calculating growth indices, and adding appropriate interactions to custom bond force.\n",
      "INFO:geometry:\t\tthere are 75560 in the reference Nonbonded force\n",
      "INFO:geometry:Neglected angle terms : []\n",
      "INFO:geometry:omitted_growth_terms: {'bonds': [], 'angles': [], 'torsions': [], '1,4s': []}\n",
      "INFO:geometry:extra torsions: {}\n",
      "INFO:geometry:neglected angle terms include []\n",
      "INFO:geometry:log probability choice of torsions and atom order: -0.6931471805599453\n",
      "INFO:geometry:creating platform, integrators, and contexts; setting growth parameter\n",
      "INFO:geometry:setting atoms_with_positions context old positions\n"
     ]
    },
    {
     "name": "stdout",
     "output_type": "stream",
     "text": [
      "Desired platform not supported. exception raised: Error initializing CUDA: CUDA_ERROR_NO_DEVICE (100) at /opt/conda/conda-bld/openmm_1589508244174/work/platforms/cuda/src/CudaContext.cpp:148\n",
      "Warning: Returning Reference platform instead of requested platform CUDA\n",
      "conducting subsequent work with the following platform: Reference\n"
     ]
    },
    {
     "name": "stderr",
     "output_type": "stream",
     "text": [
      "INFO:geometry:There are 1 new atoms\n",
      "INFO:geometry:\treduced angle potential = 0.132346418227493.\n"
     ]
    },
    {
     "name": "stdout",
     "output_type": "stream",
     "text": [
      "Desired platform not supported. exception raised: Error initializing CUDA: CUDA_ERROR_NO_DEVICE (100) at /opt/conda/conda-bld/openmm_1589508244174/work/platforms/cuda/src/CudaContext.cpp:148\n",
      "Warning: Returning Reference platform instead of requested platform CUDA\n",
      "conducting subsequent work with the following platform: Reference\n"
     ]
    },
    {
     "name": "stderr",
     "output_type": "stream",
     "text": [
      "INFO:geometry:\tbeginning construction of no_nonbonded final system...\n",
      "INFO:geometry:\tinitial no-nonbonded final system forces ['HarmonicBondForce', 'HarmonicAngleForce', 'PeriodicTorsionForce', 'NonbondedForce', 'MonteCarloBarostat']\n",
      "INFO:geometry:\tfinal no-nonbonded final system forces dict_keys(['HarmonicBondForce', 'HarmonicAngleForce', 'PeriodicTorsionForce', 'NonbondedForce'])\n",
      "INFO:geometry:\tthere are 2421 bond forces in the no-nonbonded final system\n",
      "INFO:geometry:\tthere are 8634 angle forces in the no-nonbonded final system\n",
      "INFO:geometry:\tthere are 16029 torsion forces in the no-nonbonded final system\n",
      "INFO:geometry:reverse final system defined with 0 neglected angles.\n"
     ]
    },
    {
     "name": "stdout",
     "output_type": "stream",
     "text": [
      "Desired platform not supported. exception raised: Error initializing CUDA: CUDA_ERROR_NO_DEVICE (100) at /opt/conda/conda-bld/openmm_1589508244174/work/platforms/cuda/src/CudaContext.cpp:148\n",
      "Warning: Returning Reference platform instead of requested platform CUDA\n",
      "conducting subsequent work with the following platform: Reference\n"
     ]
    },
    {
     "name": "stderr",
     "output_type": "stream",
     "text": [
      "INFO:geometry:total reduced potential before atom placement: 12016.05433087961\n"
     ]
    },
    {
     "name": "stdout",
     "output_type": "stream",
     "text": [
      "Desired platform not supported. exception raised: Error initializing CUDA: CUDA_ERROR_NO_DEVICE (100) at /opt/conda/conda-bld/openmm_1589508244174/work/platforms/cuda/src/CudaContext.cpp:148\n",
      "Warning: Returning Reference platform instead of requested platform CUDA\n",
      "conducting subsequent work with the following platform: Reference\n",
      "Desired platform not supported. exception raised: Error initializing CUDA: CUDA_ERROR_NO_DEVICE (100) at /opt/conda/conda-bld/openmm_1589508244174/work/platforms/cuda/src/CudaContext.cpp:148\n",
      "Warning: Returning Reference platform instead of requested platform CUDA\n",
      "conducting subsequent work with the following platform: Reference\n",
      "Desired platform not supported. exception raised: Error initializing CUDA: CUDA_ERROR_NO_DEVICE (100) at /opt/conda/conda-bld/openmm_1589508244174/work/platforms/cuda/src/CudaContext.cpp:148\n",
      "Warning: Returning Reference platform instead of requested platform CUDA\n",
      "conducting subsequent work with the following platform: Reference\n",
      "Desired platform not supported. exception raised: Error initializing CUDA: CUDA_ERROR_NO_DEVICE (100) at /opt/conda/conda-bld/openmm_1589508244174/work/platforms/cuda/src/CudaContext.cpp:148\n",
      "Warning: Returning Reference platform instead of requested platform CUDA\n",
      "conducting subsequent work with the following platform: Reference\n"
     ]
    },
    {
     "name": "stderr",
     "output_type": "stream",
     "text": [
      "INFO:geometry:total reduced energy added from growth system: 2.9241225133230326\n",
      "INFO:geometry:final reduced energy 12018.978453392932\n",
      "INFO:geometry:sum of energies: 12018.978453392932\n",
      "INFO:geometry:magnitude of difference in the energies: 2.327027459614328e-13\n",
      "INFO:geometry:Final logp_proposal: 3.7899234066682013\n",
      "INFO:relative:Beginning nonbonded method, total particle, barostat, and exceptions retrieval...\n",
      "INFO:relative:Old system forces: dict_keys(['HarmonicBondForce', 'HarmonicAngleForce', 'PeriodicTorsionForce', 'NonbondedForce', 'MonteCarloBarostat'])\n"
     ]
    },
    {
     "name": "stdout",
     "output_type": "stream",
     "text": [
      "added energy components: [('CustomBondForce', 0.0), ('CustomAngleForce', 4.536649083229441), ('CustomTorsionForce', 1.6542484368801609), ('CustomBondForce', -3.2667750067865695)]\n"
     ]
    },
    {
     "name": "stderr",
     "output_type": "stream",
     "text": [
      "INFO:relative:New system forces: dict_keys(['HarmonicBondForce', 'HarmonicAngleForce', 'PeriodicTorsionForce', 'NonbondedForce', 'MonteCarloBarostat'])\n",
      "INFO:relative:No unknown forces.\n",
      "INFO:relative:Nonbonded method to be used (i.e. from old system): 4\n",
      "INFO:relative:Adding and mapping old atoms to hybrid system...\n",
      "INFO:relative:Adding and mapping new atoms to hybrid system...\n",
      "INFO:relative:Added MonteCarloBarostat.\n",
      "INFO:relative:getDefaultPeriodicBoxVectors added to hybrid: [Quantity(value=Vec3(x=8.3344, y=0.0, z=0.0), unit=nanometer), Quantity(value=Vec3(x=0.0, y=8.3344, z=0.0), unit=nanometer), Quantity(value=Vec3(x=0.0, y=0.0, z=8.3344), unit=nanometer)]\n",
      "INFO:relative:Determined atom classes.\n",
      "INFO:relative:Generating old system exceptions dict...\n",
      "INFO:relative:Generating new system exceptions dict...\n",
      "INFO:relative:Handling constraints...\n",
      "INFO:relative:Handling virtual sites...\n",
      "INFO:relative:\t_handle_virtual_sites: numVirtualSites: 0\n",
      "INFO:relative:Adding bond force terms...\n",
      "INFO:relative:Adding angle force terms...\n",
      "INFO:relative:Adding torsion force terms...\n",
      "INFO:relative:Adding nonbonded force terms...\n",
      "INFO:relative:\t_add_nonbonded_force_terms: <simtk.openmm.openmm.NonbondedForce; proxy of <Swig Object of type 'OpenMM::NonbondedForce *' at 0x2b0c170d5210> > added to hybrid system\n",
      "INFO:relative:\t_add_nonbonded_force_terms: nonbonded_method is PME or Ewald\n",
      "INFO:relative:\t_add_nonbonded_force_terms: 4 added to standard nonbonded force\n",
      "INFO:relative:\t_add_nonbonded_force_terms: 2 added to sterics_custom_nonbonded force\n",
      "INFO:relative:\t_add_nonbonded_force_terms: <simtk.openmm.openmm.CustomNonbondedForce; proxy of <Swig Object of type 'OpenMM::CustomNonbondedForce *' at 0x2b0c170d52d0> > added to hybrid system\n",
      "INFO:relative:Handling harmonic bonds...\n",
      "INFO:relative:\thandle_harmonic_bonds: looping through old_system to add relevant terms...\n",
      "INFO:relative:\thandle_harmonic_bonds: looping through new_system to add relevant terms...\n",
      "INFO:relative:Handling harmonic angles...\n",
      "INFO:relative:\thandle_harmonic_angles: looping through old_system to add relevant terms...\n",
      "INFO:relative:\thandle_harmonic_angles: looping through new_system to add relevant terms...\n",
      "INFO:relative:Handling torsion forces...\n",
      "INFO:relative:\thandle_periodic_torsion_forces: looping through old_system to add relevant terms...\n",
      "INFO:relative:\thandle_periodic_torsion_forces: looping through new_system to add relevant terms...\n",
      "INFO:relative:Handling nonbonded forces...\n",
      "INFO:relative:\thandle_nonbonded: looping through all particles in hybrid...\n",
      "INFO:relative:\thandle_nonbonded: Handling Interaction Groups...\n",
      "INFO:relative:\thandle_nonbonded: Handling Hybrid Exceptions...\n",
      "INFO:relative:\thandle_nonbonded: Handling Original Exceptions...\n",
      "INFO:relative:Handling unique_new/old interaction exceptions...\n",
      "INFO:relative:There are old or new system exceptions...proceeding.\n"
     ]
    },
    {
     "name": "stdout",
     "output_type": "stream",
     "text": [
      "Desired platform not supported. exception raised: Error initializing CUDA: CUDA_ERROR_NO_DEVICE (100) at /opt/conda/conda-bld/openmm_1589508244174/work/platforms/cuda/src/CudaContext.cpp:148\n",
      "Warning: Returning Reference platform instead of requested platform CUDA\n",
      "conducting subsequent work with the following platform: Reference\n",
      "Desired platform not supported. exception raised: Error initializing CUDA: CUDA_ERROR_NO_DEVICE (100) at /opt/conda/conda-bld/openmm_1589508244174/work/platforms/cuda/src/CudaContext.cpp:148\n",
      "Warning: Returning Reference platform instead of requested platform CUDA\n",
      "conducting subsequent work with the following platform: Reference\n",
      "\t\t\tHarmonicBondForce: 1543.903204159142\n",
      "\t\t\tHarmonicAngleForce: 4276.304503225693\n",
      "\t\t\tPeriodicTorsionForce: 6202.037521014884\n",
      "\t\t\tNonbondedForce: -168934.30035209557\n",
      "\t\t\tAndersenThermostat: 0.0\n",
      "\t\t\tMonteCarloBarostat: 0.0\n",
      "Desired platform not supported. exception raised: Error initializing CUDA: CUDA_ERROR_NO_DEVICE (100) at /opt/conda/conda-bld/openmm_1589508244174/work/platforms/cuda/src/CudaContext.cpp:148\n",
      "Warning: Returning Reference platform instead of requested platform CUDA\n",
      "conducting subsequent work with the following platform: Reference\n",
      "\t\t\tCustomBondForce: 7.671662598734422\n",
      "\t\t\tHarmonicBondForce: 1537.6096137488705\n",
      "\t\t\tCustomAngleForce: 54.22393805718333\n",
      "\t\t\tHarmonicAngleForce: 4240.830979589896\n",
      "\t\t\tCustomTorsionForce: 1.8022795648925367\n",
      "\t\t\tPeriodicTorsionForce: 6219.533593917223\n",
      "\t\t\tNonbondedForce: -169353.66461131713\n",
      "\t\t\tCustomNonbondedForce: -61.0629042271359\n",
      "\t\t\tCustomBondForce: 0.0\n",
      "\t\t\tAndersenThermostat: 0.0\n",
      "\t\t\tMonteCarloBarostat: 0.0\n",
      "Desired platform not supported. exception raised: Error initializing CUDA: CUDA_ERROR_NO_DEVICE (100) at /opt/conda/conda-bld/openmm_1589508244174/work/platforms/cuda/src/CudaContext.cpp:148\n",
      "Warning: Returning Reference platform instead of requested platform CUDA\n",
      "conducting subsequent work with the following platform: Reference\n",
      "\t\t\tCustomBondForce: 7.671662598734422\n",
      "\t\t\tHarmonicBondForce: 1537.6096137488705\n",
      "\t\t\tCustomAngleForce: 54.22393805718333\n",
      "\t\t\tHarmonicAngleForce: 4240.830979589896\n",
      "\t\t\tCustomTorsionForce: 1.766635580461007\n",
      "\t\t\tPeriodicTorsionForce: 6219.533593917223\n",
      "\t\t\tNonbondedForce: -169067.6793384063\n",
      "\t\t\tCustomNonbondedForce: 40.97108108238495\n",
      "\t\t\tCustomBondForce: 0.0\n",
      "\t\t\tAndersenThermostat: 0.0\n",
      "\t\t\tMonteCarloBarostat: 0.0\n",
      "Desired platform not supported. exception raised: Error initializing CUDA: CUDA_ERROR_NO_DEVICE (100) at /opt/conda/conda-bld/openmm_1589508244174/work/platforms/cuda/src/CudaContext.cpp:148\n",
      "Warning: Returning Reference platform instead of requested platform CUDA\n",
      "conducting subsequent work with the following platform: Reference\n"
     ]
    },
    {
     "name": "stderr",
     "output_type": "stream",
     "text": [
      "INFO:proposal_generator:\tConducting polymer point mutation proposal...\n"
     ]
    },
    {
     "name": "stdout",
     "output_type": "stream",
     "text": [
      "\t\t\tHarmonicBondForce: 1545.2812763476047\n",
      "\t\t\tHarmonicAngleForce: 4290.518268563852\n",
      "\t\t\tPeriodicTorsionForce: 6219.645981060803\n",
      "\t\t\tNonbondedForce: -169023.4414823199\n",
      "\t\t\tAndersenThermostat: 0.0\n",
      "\t\t\tMonteCarloBarostat: 0.0\n"
     ]
    },
    {
     "name": "stderr",
     "output_type": "stream",
     "text": [
      "INFO:proposal_generator:Using matching_criterion to chose best atom map\n",
      "INFO:proposal_generator:Scaffold has symmetry of 0\n",
      "WARNING:proposal_generator:Two molecules are not similar to have a common scaffold\n",
      "WARNING:proposal_generator:Proceeding with direct mapping of molecules, but please check atom mapping and the geometry of the ligands.\n",
      "INFO:proposal_generator:len [{15: 6}, {23: 6}, {22: 6}, {21: 6}, {20: 6}, {19: 6}, {18: 6}, {17: 6}, {16: 6}, {}, {14: 6}, {13: 6}, {}, {}, {}, {}, {}, {}]\n",
      "INFO:proposal_generator:{15: 6}\n",
      "INFO:proposal_generator:{23: 6}\n",
      "INFO:proposal_generator:{22: 6}\n",
      "INFO:proposal_generator:{21: 6}\n",
      "INFO:proposal_generator:{20: 6}\n",
      "INFO:proposal_generator:{19: 6}\n",
      "INFO:proposal_generator:{18: 6}\n",
      "INFO:proposal_generator:{17: 6}\n",
      "INFO:proposal_generator:{16: 6}\n",
      "INFO:proposal_generator:{}\n",
      "INFO:proposal_generator:{14: 6}\n",
      "INFO:proposal_generator:{13: 6}\n",
      "INFO:proposal_generator:{}\n",
      "INFO:proposal_generator:{}\n",
      "INFO:proposal_generator:{}\n",
      "INFO:proposal_generator:{}\n",
      "INFO:proposal_generator:{}\n",
      "INFO:proposal_generator:{}\n",
      "INFO:proposal_generator:Returning map that best satisfies matching_criterion\n",
      "INFO:proposal_generator:Finding best map using matching_criterion name\n",
      "INFO:proposal_generator:{15: 6}\n",
      "INFO:geometry:propose: performing forward proposal\n",
      "INFO:geometry:propose: unique new atoms detected; proceeding to _logp_propose...\n",
      "INFO:geometry:Conducting forward proposal...\n",
      "INFO:geometry:Computing proposal order with NetworkX...\n",
      "INFO:geometry:number of atoms to be placed: 18\n",
      "INFO:geometry:Atom index proposal order is [1550, 1553, 1556, 1559, 1561, 1562, 1565, 1557, 1551, 1554, 1552, 1567, 1558, 1555, 1560, 1564, 1563, 1566]\n",
      "INFO:geometry:omitted_bonds: []\n",
      "INFO:geometry:direction of proposal is forward; creating atoms_with_positions and new positions from old system/topology...\n",
      "INFO:geometry:creating growth system...\n",
      "INFO:geometry:\tcreating bond force...\n",
      "INFO:geometry:\tthere are 2463 bonds in reference force.\n",
      "INFO:geometry:\tcreating angle force...\n",
      "INFO:geometry:\tthere are 8766 angles in reference force.\n",
      "INFO:geometry:\tcreating torsion force...\n",
      "INFO:geometry:\tcreating extra torsions force...\n",
      "INFO:geometry:\tthere are 16237 torsions in reference force.\n",
      "INFO:geometry:\tcreating nonbonded force...\n",
      "INFO:geometry:\t\tgrabbing reference nonbonded method, cutoff, switching function, switching distance...\n",
      "INFO:geometry:\t\tcreating nonbonded exception force (i.e. custom bond for 1,4s)...\n",
      "INFO:geometry:\t\tlooping through exceptions calculating growth indices, and adding appropriate interactions to custom bond force.\n",
      "INFO:geometry:\t\tthere are 76057 in the reference Nonbonded force\n",
      "WARNING:geometry:\t\t\t\t\tchiral atom <Atom 1546 (CA) of chain 0 residue 94 (ARG)> with neighbors [<Atom 1547 (C) of chain 0 residue 94 (ARG)>, <Atom 1544 (N) of chain 0 residue 94 (ARG)>, <Atom 1549 (HA) of chain 0 residue 94 (ARG)>, <Atom 1550 (CB) of chain 0 residue 94 (ARG)>] is surrounded by 3 core neighbors.  omitting chirality bias torsion\n",
      "INFO:geometry:Neglected angle terms : []\n",
      "INFO:geometry:omitted_growth_terms: {'bonds': [], 'angles': [], 'torsions': [], '1,4s': []}\n",
      "INFO:geometry:extra torsions: {}\n",
      "INFO:geometry:neglected angle terms include []\n",
      "INFO:geometry:log probability choice of torsions and atom order: -30.53751205354959\n",
      "INFO:geometry:creating platform, integrators, and contexts; setting growth parameter\n",
      "INFO:geometry:setting atoms_with_positions context new positions\n"
     ]
    },
    {
     "name": "stdout",
     "output_type": "stream",
     "text": [
      "Desired platform not supported. exception raised: Error initializing CUDA: CUDA_ERROR_NO_DEVICE (100) at /opt/conda/conda-bld/openmm_1589508244174/work/platforms/cuda/src/CudaContext.cpp:148\n",
      "Warning: Returning Reference platform instead of requested platform CUDA\n",
      "conducting subsequent work with the following platform: Reference\n"
     ]
    },
    {
     "name": "stderr",
     "output_type": "stream",
     "text": [
      "INFO:geometry:There are 18 new atoms\n",
      "INFO:geometry:\treduced angle potential = 0.02313170568388574.\n"
     ]
    },
    {
     "name": "stdout",
     "output_type": "stream",
     "text": [
      "Desired platform not supported. exception raised: Error initializing CUDA: CUDA_ERROR_NO_DEVICE (100) at /opt/conda/conda-bld/openmm_1589508244174/work/platforms/cuda/src/CudaContext.cpp:148\n",
      "Warning: Returning Reference platform instead of requested platform CUDA\n",
      "conducting subsequent work with the following platform: Reference\n"
     ]
    },
    {
     "name": "stderr",
     "output_type": "stream",
     "text": [
      "INFO:geometry:\treduced angle potential = 0.000846450898130264.\n",
      "INFO:geometry:\treduced angle potential = 0.3208019651046983.\n",
      "INFO:geometry:\treduced angle potential = 1.2529699093700866.\n",
      "INFO:geometry:\treduced angle potential = 0.07190533586558079.\n",
      "INFO:geometry:\treduced angle potential = 0.010492725109420627.\n",
      "INFO:geometry:\treduced angle potential = 0.8496775659086647.\n",
      "INFO:geometry:\treduced angle potential = 0.05519342701314021.\n",
      "INFO:geometry:\treduced angle potential = 0.3260856321798103.\n",
      "INFO:geometry:\treduced angle potential = 0.1444078427151138.\n",
      "INFO:geometry:\treduced angle potential = 0.30936560032092403.\n",
      "INFO:geometry:\treduced angle potential = 0.16208904904316607.\n",
      "INFO:geometry:\treduced angle potential = 0.14748801617013002.\n",
      "INFO:geometry:\treduced angle potential = 0.20260838932587397.\n",
      "INFO:geometry:\treduced angle potential = 0.027521957391089136.\n",
      "INFO:geometry:\treduced angle potential = 0.43845260241310435.\n",
      "INFO:geometry:\treduced angle potential = 0.35226648502670416.\n",
      "INFO:geometry:\treduced angle potential = 0.2491317617111342.\n",
      "INFO:geometry:\tbeginning construction of no_nonbonded final system...\n",
      "INFO:geometry:\tinitial no-nonbonded final system forces ['HarmonicBondForce', 'HarmonicAngleForce', 'PeriodicTorsionForce', 'NonbondedForce', 'MonteCarloBarostat']\n",
      "INFO:geometry:\tfinal no-nonbonded final system forces dict_keys(['HarmonicBondForce', 'HarmonicAngleForce', 'PeriodicTorsionForce', 'NonbondedForce'])\n",
      "INFO:geometry:\tthere are 2463 bond forces in the no-nonbonded final system\n",
      "INFO:geometry:\tthere are 8766 angle forces in the no-nonbonded final system\n",
      "INFO:geometry:\tthere are 16237 torsion forces in the no-nonbonded final system\n",
      "INFO:geometry:forward final system defined with 0 neglected angles.\n"
     ]
    },
    {
     "name": "stdout",
     "output_type": "stream",
     "text": [
      "Desired platform not supported. exception raised: Error initializing CUDA: CUDA_ERROR_NO_DEVICE (100) at /opt/conda/conda-bld/openmm_1589508244174/work/platforms/cuda/src/CudaContext.cpp:148\n",
      "Warning: Returning Reference platform instead of requested platform CUDA\n",
      "conducting subsequent work with the following platform: Reference\n"
     ]
    },
    {
     "name": "stderr",
     "output_type": "stream",
     "text": [
      "INFO:geometry:total reduced potential before atom placement: 12213.157011831609\n"
     ]
    },
    {
     "name": "stdout",
     "output_type": "stream",
     "text": [
      "Desired platform not supported. exception raised: Error initializing CUDA: CUDA_ERROR_NO_DEVICE (100) at /opt/conda/conda-bld/openmm_1589508244174/work/platforms/cuda/src/CudaContext.cpp:148\n",
      "Warning: Returning Reference platform instead of requested platform CUDA\n",
      "conducting subsequent work with the following platform: Reference\n",
      "Desired platform not supported. exception raised: Error initializing CUDA: CUDA_ERROR_NO_DEVICE (100) at /opt/conda/conda-bld/openmm_1589508244174/work/platforms/cuda/src/CudaContext.cpp:148\n",
      "Warning: Returning Reference platform instead of requested platform CUDA\n",
      "conducting subsequent work with the following platform: Reference\n",
      "Desired platform not supported. exception raised: Error initializing CUDA: CUDA_ERROR_NO_DEVICE (100) at /opt/conda/conda-bld/openmm_1589508244174/work/platforms/cuda/src/CudaContext.cpp:148\n",
      "Warning: Returning Reference platform instead of requested platform CUDA\n",
      "conducting subsequent work with the following platform: Reference\n"
     ]
    },
    {
     "name": "stderr",
     "output_type": "stream",
     "text": [
      "INFO:geometry:total reduced energy added from growth system: -452.38179357194963\n",
      "INFO:geometry:final reduced energy 11760.77521825966\n",
      "INFO:geometry:sum of energies: 11760.77521825966\n",
      "INFO:geometry:magnitude of difference in the energies: 6.821210263296962e-13\n",
      "INFO:geometry:Final logp_proposal: 99.08246257850494\n",
      "INFO:geometry:logp_reverse: performing reverse proposal\n",
      "INFO:geometry:logp_reverse: unique new atoms detected; proceeding to _logp_propose...\n",
      "INFO:geometry:Conducting forward proposal...\n",
      "INFO:geometry:Computing proposal order with NetworkX...\n",
      "INFO:geometry:number of atoms to be placed: 1\n",
      "INFO:geometry:Atom index proposal order is [1547]\n",
      "INFO:geometry:omitted_bonds: []\n",
      "INFO:geometry:direction of proposal is reverse; creating atoms_with_positions from old system/topology\n"
     ]
    },
    {
     "name": "stdout",
     "output_type": "stream",
     "text": [
      "Desired platform not supported. exception raised: Error initializing CUDA: CUDA_ERROR_NO_DEVICE (100) at /opt/conda/conda-bld/openmm_1589508244174/work/platforms/cuda/src/CudaContext.cpp:148\n",
      "Warning: Returning Reference platform instead of requested platform CUDA\n",
      "conducting subsequent work with the following platform: Reference\n",
      "added energy components: [('CustomBondForce', 6.692778794837657), ('CustomAngleForce', 11.422374844581286), ('CustomTorsionForce', 17.41372293359144), ('CustomBondForce', -487.91067014496)]\n"
     ]
    },
    {
     "name": "stderr",
     "output_type": "stream",
     "text": [
      "INFO:geometry:creating growth system...\n",
      "INFO:geometry:\tcreating bond force...\n",
      "INFO:geometry:\tthere are 2456 bonds in reference force.\n",
      "INFO:geometry:\tcreating angle force...\n",
      "INFO:geometry:\tthere are 8736 angles in reference force.\n",
      "INFO:geometry:\tcreating torsion force...\n",
      "INFO:geometry:\tcreating extra torsions force...\n",
      "INFO:geometry:\tthere are 16188 torsions in reference force.\n",
      "INFO:geometry:\tcreating nonbonded force...\n",
      "INFO:geometry:\t\tgrabbing reference nonbonded method, cutoff, switching function, switching distance...\n",
      "INFO:geometry:\t\tcreating nonbonded exception force (i.e. custom bond for 1,4s)...\n",
      "INFO:geometry:\t\tlooping through exceptions calculating growth indices, and adding appropriate interactions to custom bond force.\n",
      "INFO:geometry:\t\tthere are 75965 in the reference Nonbonded force\n",
      "INFO:geometry:Neglected angle terms : []\n",
      "INFO:geometry:omitted_growth_terms: {'bonds': [], 'angles': [], 'torsions': [], '1,4s': []}\n",
      "INFO:geometry:extra torsions: {}\n",
      "INFO:geometry:neglected angle terms include []\n",
      "INFO:geometry:log probability choice of torsions and atom order: -0.6931471805599453\n",
      "INFO:geometry:creating platform, integrators, and contexts; setting growth parameter\n",
      "INFO:geometry:setting atoms_with_positions context old positions\n"
     ]
    },
    {
     "name": "stdout",
     "output_type": "stream",
     "text": [
      "Desired platform not supported. exception raised: Error initializing CUDA: CUDA_ERROR_NO_DEVICE (100) at /opt/conda/conda-bld/openmm_1589508244174/work/platforms/cuda/src/CudaContext.cpp:148\n",
      "Warning: Returning Reference platform instead of requested platform CUDA\n",
      "conducting subsequent work with the following platform: Reference\n"
     ]
    },
    {
     "name": "stderr",
     "output_type": "stream",
     "text": [
      "INFO:geometry:There are 1 new atoms\n",
      "INFO:geometry:\treduced angle potential = 3.668141793617721.\n"
     ]
    },
    {
     "name": "stdout",
     "output_type": "stream",
     "text": [
      "Desired platform not supported. exception raised: Error initializing CUDA: CUDA_ERROR_NO_DEVICE (100) at /opt/conda/conda-bld/openmm_1589508244174/work/platforms/cuda/src/CudaContext.cpp:148\n",
      "Warning: Returning Reference platform instead of requested platform CUDA\n",
      "conducting subsequent work with the following platform: Reference\n"
     ]
    },
    {
     "name": "stderr",
     "output_type": "stream",
     "text": [
      "INFO:geometry:\tbeginning construction of no_nonbonded final system...\n",
      "INFO:geometry:\tinitial no-nonbonded final system forces ['HarmonicBondForce', 'HarmonicAngleForce', 'PeriodicTorsionForce', 'NonbondedForce', 'MonteCarloBarostat']\n",
      "INFO:geometry:\tfinal no-nonbonded final system forces dict_keys(['HarmonicBondForce', 'HarmonicAngleForce', 'PeriodicTorsionForce', 'NonbondedForce'])\n",
      "INFO:geometry:\tthere are 2456 bond forces in the no-nonbonded final system\n",
      "INFO:geometry:\tthere are 8736 angle forces in the no-nonbonded final system\n",
      "INFO:geometry:\tthere are 16188 torsion forces in the no-nonbonded final system\n",
      "INFO:geometry:reverse final system defined with 0 neglected angles.\n"
     ]
    },
    {
     "name": "stdout",
     "output_type": "stream",
     "text": [
      "Desired platform not supported. exception raised: Error initializing CUDA: CUDA_ERROR_NO_DEVICE (100) at /opt/conda/conda-bld/openmm_1589508244174/work/platforms/cuda/src/CudaContext.cpp:148\n",
      "Warning: Returning Reference platform instead of requested platform CUDA\n",
      "conducting subsequent work with the following platform: Reference\n"
     ]
    },
    {
     "name": "stderr",
     "output_type": "stream",
     "text": [
      "INFO:geometry:total reduced potential before atom placement: 12213.192655816041\n"
     ]
    },
    {
     "name": "stdout",
     "output_type": "stream",
     "text": [
      "Desired platform not supported. exception raised: Error initializing CUDA: CUDA_ERROR_NO_DEVICE (100) at /opt/conda/conda-bld/openmm_1589508244174/work/platforms/cuda/src/CudaContext.cpp:148\n",
      "Warning: Returning Reference platform instead of requested platform CUDA\n",
      "conducting subsequent work with the following platform: Reference\n",
      "Desired platform not supported. exception raised: Error initializing CUDA: CUDA_ERROR_NO_DEVICE (100) at /opt/conda/conda-bld/openmm_1589508244174/work/platforms/cuda/src/CudaContext.cpp:148\n",
      "Warning: Returning Reference platform instead of requested platform CUDA\n",
      "conducting subsequent work with the following platform: Reference\n",
      "Desired platform not supported. exception raised: Error initializing CUDA: CUDA_ERROR_NO_DEVICE (100) at /opt/conda/conda-bld/openmm_1589508244174/work/platforms/cuda/src/CudaContext.cpp:148\n",
      "Warning: Returning Reference platform instead of requested platform CUDA\n",
      "conducting subsequent work with the following platform: Reference\n"
     ]
    },
    {
     "name": "stderr",
     "output_type": "stream",
     "text": [
      "INFO:geometry:total reduced energy added from growth system: 2.9241225133230326\n",
      "INFO:geometry:final reduced energy 12216.116778329366\n",
      "INFO:geometry:sum of energies: 12216.116778329364\n",
      "INFO:geometry:magnitude of difference in the energies: 1.5862866575844237e-12\n",
      "INFO:geometry:Final logp_proposal: 3.237683772016592\n",
      "INFO:relative:Beginning nonbonded method, total particle, barostat, and exceptions retrieval...\n"
     ]
    },
    {
     "name": "stdout",
     "output_type": "stream",
     "text": [
      "Desired platform not supported. exception raised: Error initializing CUDA: CUDA_ERROR_NO_DEVICE (100) at /opt/conda/conda-bld/openmm_1589508244174/work/platforms/cuda/src/CudaContext.cpp:148\n",
      "Warning: Returning Reference platform instead of requested platform CUDA\n",
      "conducting subsequent work with the following platform: Reference\n",
      "added energy components: [('CustomBondForce', 0.0), ('CustomAngleForce', 4.536649083229441), ('CustomTorsionForce', 1.6542484368801609), ('CustomBondForce', -3.2667750067865695)]\n"
     ]
    },
    {
     "name": "stderr",
     "output_type": "stream",
     "text": [
      "INFO:relative:Old system forces: dict_keys(['HarmonicBondForce', 'HarmonicAngleForce', 'PeriodicTorsionForce', 'NonbondedForce', 'MonteCarloBarostat'])\n",
      "INFO:relative:New system forces: dict_keys(['HarmonicBondForce', 'HarmonicAngleForce', 'PeriodicTorsionForce', 'NonbondedForce', 'MonteCarloBarostat'])\n",
      "INFO:relative:No unknown forces.\n",
      "INFO:relative:Nonbonded method to be used (i.e. from old system): 4\n",
      "INFO:relative:Adding and mapping old atoms to hybrid system...\n",
      "INFO:relative:Adding and mapping new atoms to hybrid system...\n",
      "INFO:relative:Added MonteCarloBarostat.\n",
      "INFO:relative:getDefaultPeriodicBoxVectors added to hybrid: [Quantity(value=Vec3(x=8.3344, y=0.0, z=0.0), unit=nanometer), Quantity(value=Vec3(x=0.0, y=8.3344, z=0.0), unit=nanometer), Quantity(value=Vec3(x=0.0, y=0.0, z=8.3344), unit=nanometer)]\n",
      "INFO:relative:Determined atom classes.\n",
      "INFO:relative:Generating old system exceptions dict...\n",
      "INFO:relative:Generating new system exceptions dict...\n",
      "INFO:relative:Handling constraints...\n",
      "INFO:relative:Handling virtual sites...\n",
      "INFO:relative:\t_handle_virtual_sites: numVirtualSites: 0\n",
      "INFO:relative:Adding bond force terms...\n",
      "INFO:relative:Adding angle force terms...\n",
      "INFO:relative:Adding torsion force terms...\n",
      "INFO:relative:Adding nonbonded force terms...\n",
      "INFO:relative:\t_add_nonbonded_force_terms: <simtk.openmm.openmm.NonbondedForce; proxy of <Swig Object of type 'OpenMM::NonbondedForce *' at 0x2b0c28a53d20> > added to hybrid system\n",
      "INFO:relative:\t_add_nonbonded_force_terms: nonbonded_method is PME or Ewald\n",
      "INFO:relative:\t_add_nonbonded_force_terms: 4 added to standard nonbonded force\n",
      "INFO:relative:\t_add_nonbonded_force_terms: 2 added to sterics_custom_nonbonded force\n",
      "INFO:relative:\t_add_nonbonded_force_terms: <simtk.openmm.openmm.CustomNonbondedForce; proxy of <Swig Object of type 'OpenMM::CustomNonbondedForce *' at 0x2b0c28a53c60> > added to hybrid system\n",
      "INFO:relative:Handling harmonic bonds...\n",
      "INFO:relative:\thandle_harmonic_bonds: looping through old_system to add relevant terms...\n",
      "INFO:relative:\thandle_harmonic_bonds: looping through new_system to add relevant terms...\n",
      "INFO:relative:Handling harmonic angles...\n",
      "INFO:relative:\thandle_harmonic_angles: looping through old_system to add relevant terms...\n",
      "INFO:relative:\thandle_harmonic_angles: looping through new_system to add relevant terms...\n",
      "INFO:relative:Handling torsion forces...\n",
      "INFO:relative:\thandle_periodic_torsion_forces: looping through old_system to add relevant terms...\n",
      "INFO:relative:\thandle_periodic_torsion_forces: looping through new_system to add relevant terms...\n",
      "INFO:relative:Handling nonbonded forces...\n",
      "INFO:relative:\thandle_nonbonded: looping through all particles in hybrid...\n",
      "INFO:relative:\thandle_nonbonded: Handling Interaction Groups...\n",
      "INFO:relative:\thandle_nonbonded: Handling Hybrid Exceptions...\n",
      "INFO:relative:\thandle_nonbonded: Handling Original Exceptions...\n",
      "INFO:relative:Handling unique_new/old interaction exceptions...\n",
      "INFO:relative:There are old or new system exceptions...proceeding.\n"
     ]
    },
    {
     "name": "stdout",
     "output_type": "stream",
     "text": [
      "Desired platform not supported. exception raised: Error initializing CUDA: CUDA_ERROR_NO_DEVICE (100) at /opt/conda/conda-bld/openmm_1589508244174/work/platforms/cuda/src/CudaContext.cpp:148\n",
      "Warning: Returning Reference platform instead of requested platform CUDA\n",
      "conducting subsequent work with the following platform: Reference\n",
      "Desired platform not supported. exception raised: Error initializing CUDA: CUDA_ERROR_NO_DEVICE (100) at /opt/conda/conda-bld/openmm_1589508244174/work/platforms/cuda/src/CudaContext.cpp:148\n",
      "Warning: Returning Reference platform instead of requested platform CUDA\n",
      "conducting subsequent work with the following platform: Reference\n",
      "\t\t\tHarmonicBondForce: 1568.4139544805153\n",
      "\t\t\tHarmonicAngleForce: 4411.49604501638\n",
      "\t\t\tPeriodicTorsionForce: 6239.473553839257\n",
      "\t\t\tNonbondedForce: -180190.98962172127\n",
      "\t\t\tAndersenThermostat: 0.0\n",
      "\t\t\tMonteCarloBarostat: 0.0\n",
      "Desired platform not supported. exception raised: Error initializing CUDA: CUDA_ERROR_NO_DEVICE (100) at /opt/conda/conda-bld/openmm_1589508244174/work/platforms/cuda/src/CudaContext.cpp:148\n",
      "Warning: Returning Reference platform instead of requested platform CUDA\n",
      "conducting subsequent work with the following platform: Reference\n",
      "\t\t\tCustomBondForce: 7.671662598734422\n",
      "\t\t\tHarmonicBondForce: 1567.4350706766186\n",
      "\t\t\tCustomAngleForce: 54.22393805718333\n",
      "\t\t\tHarmonicAngleForce: 4368.694481803778\n",
      "\t\t\tCustomTorsionForce: 1.8022795648925367\n",
      "\t\t\tPeriodicTorsionForce: 6255.084997207955\n",
      "\t\t\tNonbondedForce: -180610.94775174334\n",
      "\t\t\tCustomNonbondedForce: -67.9525401227579\n",
      "\t\t\tCustomBondForce: 0.0\n",
      "\t\t\tAndersenThermostat: 0.0\n",
      "\t\t\tMonteCarloBarostat: 0.0\n",
      "Desired platform not supported. exception raised: Error initializing CUDA: CUDA_ERROR_NO_DEVICE (100) at /opt/conda/conda-bld/openmm_1589508244174/work/platforms/cuda/src/CudaContext.cpp:148\n",
      "Warning: Returning Reference platform instead of requested platform CUDA\n",
      "conducting subsequent work with the following platform: Reference\n",
      "\t\t\tCustomBondForce: 7.671662598734422\n",
      "\t\t\tHarmonicBondForce: 1567.4350706766186\n",
      "\t\t\tCustomAngleForce: 54.22393805718333\n",
      "\t\t\tHarmonicAngleForce: 4368.694481803778\n",
      "\t\t\tCustomTorsionForce: 1.766635580461007\n",
      "\t\t\tPeriodicTorsionForce: 6255.084997207955\n",
      "\t\t\tNonbondedForce: -180420.31622740458\n",
      "\t\t\tCustomNonbondedForce: 47356179325.57714\n",
      "\t\t\tCustomBondForce: 0.0\n",
      "\t\t\tAndersenThermostat: 0.0\n",
      "\t\t\tMonteCarloBarostat: 0.0\n",
      "Desired platform not supported. exception raised: Error initializing CUDA: CUDA_ERROR_NO_DEVICE (100) at /opt/conda/conda-bld/openmm_1589508244174/work/platforms/cuda/src/CudaContext.cpp:148\n",
      "Warning: Returning Reference platform instead of requested platform CUDA\n",
      "conducting subsequent work with the following platform: Reference\n",
      "\t\t\tHarmonicBondForce: 1575.1067332753526\n",
      "\t\t\tHarmonicAngleForce: 4418.381770777733\n",
      "\t\t\tPeriodicTorsionForce: 6255.197384351535\n",
      "\t\t\tNonbondedForce: 47355998908.53551\n",
      "\t\t\tAndersenThermostat: 0.0\n",
      "\t\t\tMonteCarloBarostat: 0.0\n"
     ]
    }
   ],
   "source": [
    "# Solvent\n",
    "solvent_delivery = PointMutationExecutor(\"./data/4yne_lar_apo.pdb\", \n",
    "                        '1', # First and only protein chain \n",
    "                        '595', \n",
    "                        'ARG',\n",
    "                        ligand_file=\"./data/lar.sdf\",\n",
    "                        ionic_strength=0.15*unit.molar\n",
    "                       )"
   ]
  },
  {
   "cell_type": "markdown",
   "metadata": {},
   "source": [
    "#### 1.2.1 Check maps"
   ]
  },
  {
   "cell_type": "code",
   "execution_count": 10,
   "metadata": {},
   "outputs": [],
   "source": [
    "render_protein_residue_atom_mapping(solvent_delivery.get_apo_htf()._topology_proposal, \"./output/4yne_lar_g595r_apo_map.png\")"
   ]
  },
  {
   "cell_type": "markdown",
   "metadata": {},
   "source": [
    "![G595R Map](./output/4yne_lar_g595r_apo_map.png)"
   ]
  },
  {
   "cell_type": "markdown",
   "metadata": {},
   "source": [
    "#### Save hybrid topology factories as pickle objects"
   ]
  },
  {
   "cell_type": "code",
   "execution_count": 11,
   "metadata": {},
   "outputs": [],
   "source": [
    "pickle.dump(solvent_delivery.get_apo_htf(), open(os.path.join(out_dir, \"4yne_lar_g595r_apo.pickle\"), \"wb\" ))\n",
    "pickle.dump(solvent_delivery.get_complex_htf(), open(os.path.join(out_dir, \"4yne_lar_g595r_complex.pickle\"), \"wb\" ))"
   ]
  },
  {
   "cell_type": "markdown",
   "metadata": {},
   "source": [
    "#### Save coordinates of old and new positions for apo and complex - here we can check the geometry of the transform"
   ]
  },
  {
   "cell_type": "code",
   "execution_count": 12,
   "metadata": {},
   "outputs": [],
   "source": [
    "htfs_t = [solvent_delivery.get_apo_htf(), solvent_delivery.get_complex_htf()]\n",
    "\n",
    "top_old = md.Topology.from_openmm(htfs_t[0]._topology_proposal.old_topology)\n",
    "top_new = md.Topology.from_openmm(htfs_t[0]._topology_proposal.new_topology)\n",
    "traj = md.Trajectory(np.array(htfs_t[0].old_positions(htfs_t[0].hybrid_positions)), top_old)\n",
    "traj.save(\"./output/4yne_lar_g595r_apo_old.pdb\")\n",
    "traj = md.Trajectory(np.array(htfs_t[0].new_positions(htfs_t[0].hybrid_positions)), top_new)\n",
    "traj.save(\"./output/4yne_lar_g595r_apo_new.pdb\")\n",
    "\n",
    "top_old = md.Topology.from_openmm(htfs_t[1]._topology_proposal.old_topology)\n",
    "top_new = md.Topology.from_openmm(htfs_t[1]._topology_proposal.new_topology)\n",
    "traj = md.Trajectory(np.array(htfs_t[1].old_positions(htfs_t[1].hybrid_positions)), top_old)\n",
    "traj.save(\"./output/4yne_lar_g595r_complex_old.pdb\")\n",
    "traj = md.Trajectory(np.array(htfs_t[1].new_positions(htfs_t[1].hybrid_positions)), top_new)\n",
    "traj.save(\"./output/4yne_lar_g595r_complex_new.pdb\")"
   ]
  },
  {
   "cell_type": "code",
   "execution_count": null,
   "metadata": {},
   "outputs": [],
   "source": []
  }
 ],
 "metadata": {
  "kernelspec": {
   "display_name": "Python 3",
   "language": "python",
   "name": "python3"
  },
  "language_info": {
   "codemirror_mode": {
    "name": "ipython",
    "version": 3
   },
   "file_extension": ".py",
   "mimetype": "text/x-python",
   "name": "python",
   "nbconvert_exporter": "python",
   "pygments_lexer": "ipython3",
   "version": "3.7.8"
  }
 },
 "nbformat": 4,
 "nbformat_minor": 2
}
