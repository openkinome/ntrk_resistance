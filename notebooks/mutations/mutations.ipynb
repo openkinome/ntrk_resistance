{
 "metadata": {
  "language_info": {
   "codemirror_mode": {
    "name": "ipython",
    "version": 3
   },
   "file_extension": ".py",
   "mimetype": "text/x-python",
   "name": "python",
   "nbconvert_exporter": "python",
   "pygments_lexer": "ipython3",
   "version": "3.7.8-final"
  },
  "orig_nbformat": 2,
  "kernelspec": {
   "name": "python37064bitpersesdevcondace94e5fe1cd44555b578b432f8d357eb",
   "display_name": "Python 3.7.0 64-bit ('perses_dev': conda)"
  }
 },
 "nbformat": 4,
 "nbformat_minor": 2,
 "cells": [
  {
   "cell_type": "code",
   "execution_count": null,
   "metadata": {},
   "outputs": [],
   "source": []
  },
  {
   "cell_type": "markdown",
   "metadata": {},
   "source": [
    "# Point mutations in NTRKs"
   ]
  },
  {
   "cell_type": "code",
   "execution_count": null,
   "metadata": {
    "tags": []
   },
   "outputs": [],
   "source": [
    "from openeye import oechem\n",
    "import MDAnalysis as mda\n",
    "\n",
    "input_pdb_path = \"../md/data/md_equil/4YNE/output/\"\n",
    "\n",
    "ligand_list = [\"larotrectinib\", \"selitrectinib\", \"repotrectinib\"]\n",
    "\n",
    "ligand_input_pdb_dict = {\n",
    "    \"lar\" : input_pdb_path + \"larotrectinib/equilibrated_state_5ns.pdb\",\n",
    "    \"sel\" : input_pdb_path + \"selitrectinib/equilibrated_state_5ns.pdb\",\n",
    "    \"rep\" : input_pdb_path + \"repotrectinib/equilibrated_state_5ns.pdb\"\n",
    "}\n",
    "\n",
    "# Strip out protein and ligand coordinates\n",
    "\n",
    "for ligand_resname in ligand_input_pdb_dict:\n",
    "\n",
    "    u = mda.Universe(ligand_input_pdb_dict[ligand_resname])\n",
    "\n",
    "    protein = u.select_atoms(\"protein or resname ACE NME\")\n",
    "    protein.write(\"./data/4yne_\" + ligand_resname + \"_apo.pdb\")\n",
    "\n",
    "    ligand = u.select_atoms(\"resname \" + ligand_resname)\n",
    "    ligand.write(\"./data/\" + ligand_resname + \".pdb\")\n",
    "\n",
    "# Create SDF files for each ligand to be used later\n",
    "\n",
    "for ligand_resname in ligand_input_pdb_dict:\n",
    "\n",
    "    ifs = oechem.oemolistream(\"./data/\" + ligand_resname + \".pdb\")\n",
    "    ofs = oechem.oemolostream(\"./data/\" + ligand_resname + \".sdf\")\n",
    "\n",
    "    ifs.SetFormat(oechem.OEFormat_PDB)\n",
    "    ofs.SetFormat(oechem.OEFormat_SDF)\n",
    "\n",
    "    for mol in ifs.GetOEGraphMols():\n",
    "        oechem.OEWriteMolecule(ofs, mol)\n",
    "\n",
    "    "
   ]
  },
  {
   "cell_type": "code",
   "execution_count": null,
   "metadata": {},
   "outputs": [],
   "source": [
    "# Set up logger\n",
    "import logging\n",
    "_logger = logging.getLogger()\n",
    "_logger.setLevel(logging.DEBUG)"
   ]
  },
  {
   "cell_type": "code",
   "execution_count": null,
   "metadata": {
    "tags": [
     "outputPrepend"
    ]
   },
   "outputs": [],
   "source": [
    "# Solvent\n",
    "from perses.app.relative_point_mutation_setup import PointMutationExecutor\n",
    "from simtk import unit\n",
    "solvent_delivery = PointMutationExecutor(\"./data/4yne_lar_apo.pdb\", \n",
    "                        '1', # First and only protein chain \n",
    "                        '667', \n",
    "                        'CYS',\n",
    "                        ligand_file=\"./data/lar.sdf\",\n",
    "                        ionic_strength=0.15*unit.molar\n",
    "                       )"
   ]
  }
 ]
}