{
 "metadata": {
  "language_info": {
   "codemirror_mode": {
    "name": "ipython",
    "version": 3
   },
   "file_extension": ".py",
   "mimetype": "text/x-python",
   "name": "python",
   "nbconvert_exporter": "python",
   "pygments_lexer": "ipython3",
   "version": "3.6.10-final"
  },
  "orig_nbformat": 2,
  "kernelspec": {
   "name": "python361064bit47e240d498e14db5919f74498d6e8580",
   "display_name": "Python 3.6.10 64-bit"
  }
 },
 "nbformat": 4,
 "nbformat_minor": 2,
 "cells": [
  {
   "cell_type": "code",
   "execution_count": null,
   "metadata": {},
   "outputs": [],
   "source": []
  },
  {
   "cell_type": "markdown",
   "metadata": {},
   "source": [
    "# Point mutations in NTRKs"
   ]
  },
  {
   "cell_type": "code",
   "execution_count": 12,
   "metadata": {},
   "outputs": [],
   "source": [
    "from openeye import oechem\n",
    "from openforcefield.topology import Molecule\n",
    "\n",
    "input_pdb = \"../md/data/md_equil/4YNE/4YNE_prepped.pdb\"\n",
    "input_ligands_sdf = \"../docking/data/4YNE_hybrid_docking.sdf\"\n",
    "\n"
   ]
  },
  {
   "cell_type": "code",
   "execution_count": 69,
   "metadata": {},
   "outputs": [],
   "source": [
    "# Load input SDF file containing all docked ligands\n",
    "ifs = oechem.oemolistream(input_ligands_sdf)\n",
    "ifs.SetFormat(oechem.OEFormat_SDF)\n",
    "\n",
    "# Set up a dictionary for the new file names we will generate\n",
    "ofs_dict = {\n",
    "    \"larotrectinib\" : \"4YNE_hybrid_docking_larotrectinib.sdf\",\n",
    "    \"selitrectinib\" : \"4YNE_hybrid_docking_selitrectinib.sdf\",\n",
    "    \"repotrectinib\" : \"4YNE_hybrid_docking_repotrectinib.sdf\"\n",
    "    }\n",
    "\n",
    "# Loop through each molecule and create an SDF file containing just one ligand\n",
    "for ofs_key, mol in zip(ofs_dict, ifs.GetOEMols()):\n",
    "    \n",
    "    ofs = oechem.oemolostream(ofs_dict[ofs_key])\n",
    "    ofs.SetFormat(oechem.OEFormat_SDF)\n",
    "\n",
    "    oechem.OEWriteMolecule(ofs, mol)"
   ]
  },
  {
   "cell_type": "code",
   "execution_count": 70,
   "metadata": {},
   "outputs": [],
   "source": []
  }
 ]
}