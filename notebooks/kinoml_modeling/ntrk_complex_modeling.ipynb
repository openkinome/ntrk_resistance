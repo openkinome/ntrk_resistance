{
 "cells": [
  {
   "cell_type": "markdown",
   "metadata": {},
   "source": [
    "# NTRK complex modeling"
   ]
  },
  {
   "cell_type": "markdown",
   "metadata": {},
   "source": [
    "This notebook shows the modeling of tyrosine kinase inhibitors into NTRKs using functionalities from KinoML from the commit [968125e](https://github.com/openkinome/kinoml/commit/968125e86625102c6c718722cfeb2f0aef37f7a9). Compared to the previously used modeling pipeline, modifications in this and previous commits remove all post-translational modifications and allow for specific isoform modeling among other improvements. Furthermore, entrectinib is now included."
   ]
  },
  {
   "cell_type": "code",
   "execution_count": 1,
   "metadata": {},
   "outputs": [],
   "source": [
    "import traceback\n",
    "\n",
    "from kinoml.core.ligands import SmilesLigand\n",
    "from kinoml.core.components import BaseProtein\n",
    "from kinoml.core.systems import ProteinLigandComplex\n",
    "from kinoml.features.complexes import OEKLIFSKinaseHybridDockingFeaturizer"
   ]
  },
  {
   "cell_type": "code",
   "execution_count": 2,
   "metadata": {},
   "outputs": [],
   "source": [
    "tkis = {'larotrectinib': 'O=C(Nc1cnn2ccc(N3CCC[C@@H]3c3cc(F)ccc3F)nc12)N1CC[C@H](O)C1',\n",
    "        'selitrectinib': 'C[C@@H]1CCc2ncc(F)cc2[C@H]2CCCN2c2ccn3ncc(c3n2)C(=O)N1',\n",
    "        'repotrectinib': 'C[C@H]1CNC(=O)c2cnn3ccc(nc23)N[C@H](C)c2cc(F)ccc2O1',\n",
    "        'entrectinib': 'CN1CCN(c2ccc(C(=O)Nc3n[nH]c4ccc(Cc5cc(F)cc(F)c5)cc34)c(NC3CCOCC3)c2)CC1'}\n",
    "ntrks = {'NTRK1': \"P04629\",\n",
    "         'NTRK2': \"Q16620\",\n",
    "         'NTRK3': \"Q16288\"}"
   ]
  },
  {
   "cell_type": "code",
   "execution_count": 3,
   "metadata": {},
   "outputs": [],
   "source": [
    "docking_featurizer = OEKLIFSKinaseHybridDockingFeaturizer(loop_db=\"~/.OpenEye/rcsb_spruce.loop_db\", shape_overlay=True)"
   ]
  },
  {
   "cell_type": "code",
   "execution_count": 4,
   "metadata": {},
   "outputs": [
    {
     "name": "stdout",
     "output_type": "stream",
     "text": [
      "Error for generating structure of NTRK2 in complex with entrectinib!\n"
     ]
    },
    {
     "name": "stderr",
     "output_type": "stream",
     "text": [
      "Traceback (most recent call last):\n",
      "  File \"<ipython-input-4-f3f63e471bd5>\", line 8, in <module>\n",
      "    system = docking_featurizer.featurize(kinase_ligand_complex)\n",
      "  File \"/home/david/github/kinoml/kinoml/features/core.py\", line 37, in featurize\n",
      "    features = self._featurize(system)\n",
      "  File \"/home/david/github/kinoml/kinoml/features/complexes.py\", line 1014, in _featurize\n",
      "    ligand_template[\"structure.ac_helix\"],\n",
      "  File \"/home/david/github/kinoml/kinoml/features/complexes.py\", line 725, in _select_kinase_structure_by_klifs_kinase_id\n",
      "    f\"No structure available in DFG {dfg}/alpha C helix {alpha_c_helix} conformation.\"\n",
      "NotImplementedError: No structure available in DFG in/alpha C helix out-like conformation.\n"
     ]
    },
    {
     "name": "stdout",
     "output_type": "stream",
     "text": [
      "Error for generating structure of NTRK3 in complex with selitrectinib!\n"
     ]
    },
    {
     "name": "stderr",
     "output_type": "stream",
     "text": [
      "Traceback (most recent call last):\n",
      "  File \"<ipython-input-4-f3f63e471bd5>\", line 8, in <module>\n",
      "    system = docking_featurizer.featurize(kinase_ligand_complex)\n",
      "  File \"/home/david/github/kinoml/kinoml/features/core.py\", line 37, in featurize\n",
      "    features = self._featurize(system)\n",
      "  File \"/home/david/github/kinoml/kinoml/features/complexes.py\", line 1014, in _featurize\n",
      "    ligand_template[\"structure.ac_helix\"],\n",
      "  File \"/home/david/github/kinoml/kinoml/features/complexes.py\", line 725, in _select_kinase_structure_by_klifs_kinase_id\n",
      "    f\"No structure available in DFG {dfg}/alpha C helix {alpha_c_helix} conformation.\"\n",
      "NotImplementedError: No structure available in DFG in/alpha C helix out conformation.\n"
     ]
    },
    {
     "name": "stdout",
     "output_type": "stream",
     "text": [
      "Error for generating structure of NTRK3 in complex with entrectinib!\n"
     ]
    },
    {
     "name": "stderr",
     "output_type": "stream",
     "text": [
      "Traceback (most recent call last):\n",
      "  File \"<ipython-input-4-f3f63e471bd5>\", line 8, in <module>\n",
      "    system = docking_featurizer.featurize(kinase_ligand_complex)\n",
      "  File \"/home/david/github/kinoml/kinoml/features/core.py\", line 37, in featurize\n",
      "    features = self._featurize(system)\n",
      "  File \"/home/david/github/kinoml/kinoml/features/complexes.py\", line 1014, in _featurize\n",
      "    ligand_template[\"structure.ac_helix\"],\n",
      "  File \"/home/david/github/kinoml/kinoml/features/complexes.py\", line 725, in _select_kinase_structure_by_klifs_kinase_id\n",
      "    f\"No structure available in DFG {dfg}/alpha C helix {alpha_c_helix} conformation.\"\n",
      "NotImplementedError: No structure available in DFG in/alpha C helix out-like conformation.\n"
     ]
    }
   ],
   "source": [
    "for ntrk, uniprot_id in ntrks.items():\n",
    "    for tki, smiles in tkis.items():\n",
    "        smiles_ligand = SmilesLigand(smiles=smiles, name=tki)\n",
    "        base_protein = BaseProtein(name=ntrk)\n",
    "        base_protein.uniprot_id = uniprot_id\n",
    "        kinase_ligand_complex = ProteinLigandComplex(components=[base_protein, smiles_ligand])\n",
    "        try:\n",
    "            system = docking_featurizer.featurize(kinase_ligand_complex)\n",
    "        except Exception:\n",
    "            print(f'Error for generating structure of {ntrk} in complex with {tki}!')\n",
    "            traceback.print_exc()"
   ]
  },
  {
   "cell_type": "markdown",
   "metadata": {},
   "source": [
    "First, NTRK inhibitor complexes were generated using the default settings (`shape_overlay=False`). In this case, ligand templates, which guide ligand placement during hybrid docking, are searched via fingerprints. This was successful for NTRK1 in complex with larotrectinib, selitrectinib and entrectinib, as well as for NTRK2 in complex with larotrectinib and selitrectinib. The other complexes were not generated and would require homology modeling or another source of kinase structures in specific conformations."
   ]
  },
  {
   "cell_type": "markdown",
   "metadata": {},
   "source": [
    "|kinase|tki          |ligand template|kinase template|kinase conformation|docking|comment                                       |\n",
    "|------|-------------|---------------|---------------|-------------------|-------|----------------------------------------------|\n",
    "|NTRK1 |larotrectinib|4yne           |4yne           |DFG in, aC out     |+      |                                              |\n",
    "|NTRK1 |selitrectinib|4yne           |4yne           |DFG in, aC out     |+      |                                              |\n",
    "|NTRK1 |repotrectinib|-              |-              |-                  |-      |                                              |\n",
    "|NTRK1 |entrectinib  |5kvt           |5kvt           |DFG in, aC out-like|+      |                                              |\n",
    "|NTRK2 |larotrectinib|4yne           |4at3           |DFG in, aC out     |+      |                                              |\n",
    "|NTRK2 |selitrectinib|4yne           |4at3           |DFG in, aC out     |+      |amide in macrocycle rotated compared to NTRK1 |\n",
    "|NTRK2 |repotrectinib|-              |-              |-                  |-      |                                              |\n",
    "|NTRK2 |entrectinib  |-              |-              |-                  |-      |                                              |\n",
    "|NTRK3 |larotrectinib|-              |-              |-                  |-      |                                              |\n",
    "|NTRK3 |selitrectinib|-              |-              |-                  |-      |                                              |\n",
    "|NTRK3 |repotrectinib|-              |-              |-                  |-      |                                              |\n",
    "|NTRK3 |entrectinib  |-              |-              |-                  |-      |                                              |"
   ]
  },
  {
   "cell_type": "markdown",
   "metadata": {},
   "source": [
    "Next, complexes were generated with shape_overlay set `True`. Generated complexes of NTRK1 binding larotrectinib, selitrectinib and repotrectinib match the binding modes published in [Drilon 2017](https://doi.org/10.1158/2159-8290.CD-17-0507) and show a DFG in/aC helix out conformation. Entrectinib was co-crystallized with NTRK1 and binds to the alpha C helix out-like conformation, which is not available in the PDB for NTRK2 and NTRK3. Interestingly, larotrectinib and repotrectinib are predicted to bind to DFG out conformations in case of NTRK2 and NTRK3. While the NTRK2 complexes are clashy or do not show hydrogen bonds with the hinge region, the NTRK3 complexes of larotrectinib and repotrectinib look surprisingly favorable considering the flipped binding mode compared to the NTRK1 complexes."
   ]
  },
  {
   "cell_type": "markdown",
   "metadata": {},
   "source": [
    "|kinase|tki          |ligand template|kinase template|kinase conformation|docking|comment                                               |\n",
    "|------|-------------|---------------|---------------|-------------------|-------|------------------------------------------------------|\n",
    "|NTRK1 |larotrectinib|4yne           |4yne           |DFG in, aC out     |+      |                                                      |\n",
    "|NTRK1 |selitrectinib|4yne           |4yne           |DFG in, aC out     |+      |                                                      |\n",
    "|NTRK1 |repotrectinib|4yne           |4yne           |DFG in, aC out     |+      |                                                      |\n",
    "|NTRK1 |entrectinib  |5kvt           |5kvt           |DFG in, aC out-like|+      |                                                      |\n",
    "|NTRK2 |larotrectinib|4ymj           |4at5           |DFG out, aC out    |+/-    |flipped compared to NTRK1, clashy with PHE of DFG     |\n",
    "|NTRK2 |selitrectinib|4yne           |4at3           |DFG in, aC out     |+      |amide in macrocycle rotated compared to NTRK1         |\n",
    "|NTRK2 |repotrectinib|4ymj           |4at5           |DFG out, aC out    |-      |flipped compared to NTRK1, no hbonds with hinge region|\n",
    "|NTRK2 |entrectinib  |-              |-              |-                  |-      |                                                      |\n",
    "|NTRK3 |larotrectinib|4ymj           |4ymj           |DFG out, aC out    |+      |flipped compared to NTRK1                             |\n",
    "|NTRK3 |selitrectinib|-              |-              |-                  |-      |                                                      |\n",
    "|NTRK3 |repotrectinib|4ymj           |4ymj           |DFG out, aC out    |+      |flipped compared to NTRK1                            |\n",
    "|NTRK3 |entrectinib  |-              |-              |-                  |-      |                                                      |"
   ]
  }
 ],
 "metadata": {
  "kernelspec": {
   "display_name": "Python 3",
   "language": "python",
   "name": "python3"
  },
  "language_info": {
   "codemirror_mode": {
    "name": "ipython",
    "version": 3
   },
   "file_extension": ".py",
   "mimetype": "text/x-python",
   "name": "python",
   "nbconvert_exporter": "python",
   "pygments_lexer": "ipython3",
   "version": "3.7.8"
  }
 },
 "nbformat": 4,
 "nbformat_minor": 4
}
