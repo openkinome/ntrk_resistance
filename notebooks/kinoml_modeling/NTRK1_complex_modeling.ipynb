{
 "cells": [
  {
   "cell_type": "markdown",
   "metadata": {},
   "source": [
    "# NTRK complex modeling"
   ]
  },
  {
   "cell_type": "markdown",
   "metadata": {},
   "source": [
    "This notebook shows the modeling of tyrosine kinase inhibitors into NTRK1 using functionalities from KinoML from the commit [b252ff6](https://github.com/openkinome/kinoml/commit/b252ff67a35b9149e704d51b7c838dcf1e9fb10f)."
   ]
  },
  {
   "cell_type": "code",
   "execution_count": 1,
   "metadata": {},
   "outputs": [
    {
     "data": {
      "application/vnd.jupyter.widget-view+json": {
       "model_id": "6359de216da7493fa2c3bebea44833cf",
       "version_major": 2,
       "version_minor": 0
      },
      "text/plain": []
     },
     "metadata": {},
     "output_type": "display_data"
    }
   ],
   "source": [
    "import traceback\n",
    "\n",
    "from kinoml.core.ligands import SmilesLigand\n",
    "from kinoml.core.components import BaseProtein\n",
    "from kinoml.core.systems import ProteinLigandComplex\n",
    "from kinoml.features.complexes import OEKLIFSKinaseHybridDockingFeaturizer"
   ]
  },
  {
   "cell_type": "code",
   "execution_count": 2,
   "metadata": {},
   "outputs": [],
   "source": [
    "tkis = {'larotrectinib': 'O=C(Nc1cnn2ccc(N3CCC[C@@H]3c3cc(F)ccc3F)nc12)N1CC[C@H](O)C1',\n",
    "        'selitrectinib': 'C[C@@H]1CCc2ncc(F)cc2[C@H]2CCCN2c2ccn3ncc(c3n2)C(=O)N1',\n",
    "        'repotrectinib': 'C[C@H]1CNC(=O)c2cnn3ccc(nc23)N[C@H](C)c2cc(F)ccc2O1'}\n",
    "ntrks = {'NTRK1': 480,\n",
    "         'NTRK2': 481,\n",
    "         'NTRK3': 482}"
   ]
  },
  {
   "cell_type": "code",
   "execution_count": 3,
   "metadata": {},
   "outputs": [],
   "source": [
    "docking_featurizer = OEKLIFSKinaseHybridDockingFeaturizer(loop_db=\"~/.OpenEye/rcsb_spruce.loop_db\", shape_overlay=True)"
   ]
  },
  {
   "cell_type": "code",
   "execution_count": 4,
   "metadata": {},
   "outputs": [
    {
     "name": "stdout",
     "output_type": "stream",
     "text": [
      "Error for generating structure of NTRK3 in complex with larotrectinib!\n"
     ]
    },
    {
     "name": "stderr",
     "output_type": "stream",
     "text": [
      "Traceback (most recent call last):\n",
      "  File \"<ipython-input-4-176da7f673a9>\", line 8, in <module>\n",
      "    system = docking_featurizer.featurize(kinase_ligand_complex)\n",
      "  File \"/home/david/miniconda3/envs/kinoml/lib/python3.7/site-packages/kinoml/features/core.py\", line 37, in featurize\n",
      "    features = self._featurize(system)\n",
      "  File \"/home/david/miniconda3/envs/kinoml/lib/python3.7/site-packages/kinoml/features/complexes.py\", line 422, in _featurize\n",
      "    ligand_template.aC_helix,\n",
      "  File \"/home/david/miniconda3/envs/kinoml/lib/python3.7/site-packages/kinoml/features/complexes.py\", line 797, in _select_protein_template\n",
      "    raise NotImplementedError(\"Would need homology modeling capability.\")\n",
      "NotImplementedError: Would need homology modeling capability.\n"
     ]
    },
    {
     "name": "stdout",
     "output_type": "stream",
     "text": [
      "Error for generating structure of NTRK3 in complex with selitrectinib!\n"
     ]
    },
    {
     "name": "stderr",
     "output_type": "stream",
     "text": [
      "Traceback (most recent call last):\n",
      "  File \"<ipython-input-4-176da7f673a9>\", line 8, in <module>\n",
      "    system = docking_featurizer.featurize(kinase_ligand_complex)\n",
      "  File \"/home/david/miniconda3/envs/kinoml/lib/python3.7/site-packages/kinoml/features/core.py\", line 37, in featurize\n",
      "    features = self._featurize(system)\n",
      "  File \"/home/david/miniconda3/envs/kinoml/lib/python3.7/site-packages/kinoml/features/complexes.py\", line 422, in _featurize\n",
      "    ligand_template.aC_helix,\n",
      "  File \"/home/david/miniconda3/envs/kinoml/lib/python3.7/site-packages/kinoml/features/complexes.py\", line 797, in _select_protein_template\n",
      "    raise NotImplementedError(\"Would need homology modeling capability.\")\n",
      "NotImplementedError: Would need homology modeling capability.\n"
     ]
    }
   ],
   "source": [
    "for ntrk, kinase_id in ntrks.items():\n",
    "    for tki, smiles in tkis.items():\n",
    "        smiles_ligand = SmilesLigand(smiles=smiles, name=tki)\n",
    "        base_protein = BaseProtein(name=ntrk)\n",
    "        base_protein.klifs_kinase_id = kinase_id\n",
    "        kinase_ligand_complex = ProteinLigandComplex(components=[base_protein, smiles_ligand])\n",
    "        try:\n",
    "            system = docking_featurizer.featurize(kinase_ligand_complex)\n",
    "        except Exception:\n",
    "            print(f'Error for generating structure of {ntrk} in complex with {tki}!')\n",
    "            traceback.print_exc()"
   ]
  },
  {
   "cell_type": "markdown",
   "metadata": {},
   "source": [
    "First, NTRK inhibitor complexes were generated using the default settings (`shape_overlay=False`). In this case, ligand templates, which guide ligand placement during hybrid docking, are searched via fingerprints. This was successful for NTRK1 and NTRK2 in complex with larotrectinib, which used [4yne](https://www.rcsb.org/structure/4YNE) as ligand template. The complexes of NTRK1-3 with selitrectinib show a favorable binding pose. However, the docked ligands clash with the phenylalanine of the DFG motif indicating a wrong kinase conformation. The other complexes were not generated and would require homology modeling."
   ]
  },
  {
   "cell_type": "markdown",
   "metadata": {},
   "source": [
    "|kinase|tki          |ligand template|kinase template|kinase conformation|docking|comment|\n",
    "|------|-------------|---------------|---------------|-------------------|-------|-------|\n",
    "|NTRK1 |larotrectinib|4yne           |4yne           |DFG in, aC out |+      |                                            |\n",
    "|NTRK1 |selitrectinib|5jfx           |5jfx           |DFG out, aC out|+/-    |clashing with DFG motif, wrong conformation |\n",
    "|NTRK1 |repotrectinib|-              |-              |-              |-      |                                            |\n",
    "|NTRK2 |larotrectinib|4yne           |4at3           |DFG in, aC out |+      |                                            |\n",
    "|NTRK2 |selitrectinib|5jfx           |4at5           |DFG out, aC out|+/-    |clashing with DFG motif, wrong conformation |\n",
    "|NTRK2 |repotrectinib|-              |-              |-              |-      |                                            |\n",
    "|NTRK3 |larotrectinib|-              |-              |-              |-      |                                            |\n",
    "|NTRK3 |selitrectinib|5jfx           |6kzc           |DFG out, aC out|+/-    |clashing with DFG motif, wrong conformation |\n",
    "|NTRK3 |repotrectinib|-              |-              |-              |-      |                                            |"
   ]
  },
  {
   "cell_type": "markdown",
   "metadata": {},
   "source": [
    "Next, complexes were generated with shape_overlay set `True`. Generated complexes of NTRK1 and NTRK2 binding larotrectinib and selitrectinib match the binding mode observed in [Drilon 2017](https://doi.org/10.1158/2159-8290.CD-17-0507) and show a DFG in/aC helix out conformation. Interestingly, the current workflow selects different ligand templates for repotrectinib leading to different binding modes and a different selected kinase conformation. While the complex with NTRK2 is a little clashy, the complex of repotrectinib and NTRK3 looks supprisingly favorable considering the different kinase conformation. Structures of NTRK3 in complex with larotrectinib and selitrectinib could be modeled and would require homology modeling capability."
   ]
  },
  {
   "cell_type": "markdown",
   "metadata": {},
   "source": [
    "|kinase|tki          |ligand template|kinase template|kinase conformation|docking|comment                                     |\n",
    "|------|-------------|---------------|---------------|-|-------|--------------------------------------------|\n",
    "|NTRK1 |larotrectinib|4yne           |4yne           |DFG in, aC out |+      |            |\n",
    "|NTRK1 |selitrectinib|4yne           |4yne           |DFG in, aC out |+      |                              |\n",
    "|NTRK1 |repotrectinib|4yne           |4yne           |DFG in, aC out |+      |                                   |\n",
    "|NTRK2 |larotrectinib|4yne           |4at3           |DFG in, aC out |+      |                             |\n",
    "|NTRK2 |selitrectinib|4yne           |4at3           |DFG in, aC out |+      |                                            |\n",
    "|NTRK2 |repotrectinib|4ymj           |4at5           |DFG out, aC out |+/-   |flipped orientation, clashy, different ligand template selected than for NTRK1|\n",
    "|NTRK3 |larotrectinib|-             |-             |- |-      |                                            |\n",
    "|NTRK3 |selitrectinib|-             |-             |- |-      |                                            |\n",
    "|NTRK3 |repotrectinib|4ymj           |4ymj           |DFG out, aC out |+/-   |flipped orientation, different ligand template selected than for NTRK1|"
   ]
  },
  {
   "cell_type": "markdown",
   "metadata": {},
   "source": [
    "The NTRK3 structure contains a phospho serine which is not automatically mutated to the standard amino acid. This will be fixed in future releases."
   ]
  }
 ],
 "metadata": {
  "kernelspec": {
   "display_name": "Python 3",
   "language": "python",
   "name": "python3"
  },
  "language_info": {
   "codemirror_mode": {
    "name": "ipython",
    "version": 3
   },
   "file_extension": ".py",
   "mimetype": "text/x-python",
   "name": "python",
   "nbconvert_exporter": "python",
   "pygments_lexer": "ipython3",
   "version": "3.7.8"
  }
 },
 "nbformat": 4,
 "nbformat_minor": 4
}
